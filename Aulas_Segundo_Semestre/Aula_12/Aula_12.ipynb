{
 "cells": [
  {
   "attachments": {},
   "cell_type": "markdown",
   "metadata": {},
   "source": [
    "## Classes em Python "
   ]
  },
  {
   "cell_type": "code",
   "execution_count": null,
   "metadata": {},
   "outputs": [],
   "source": [
    "pip install pandas"
   ]
  },
  {
   "cell_type": "code",
   "execution_count": null,
   "metadata": {},
   "outputs": [],
   "source": [
    "pip install numpy"
   ]
  },
  {
   "attachments": {},
   "cell_type": "markdown",
   "metadata": {},
   "source": [
    "Classes: Define um modelo ou uma planta para criar um objeto"
   ]
  },
  {
   "cell_type": "code",
   "execution_count": 3,
   "metadata": {},
   "outputs": [],
   "source": [
    "class MyClass:\n",
    "    MyVar = 0"
   ]
  },
  {
   "cell_type": "code",
   "execution_count": 4,
   "metadata": {},
   "outputs": [],
   "source": [
    "MyInstance = MyClass()"
   ]
  },
  {
   "cell_type": "code",
   "execution_count": 5,
   "metadata": {},
   "outputs": [
    {
     "data": {
      "text/plain": [
       "__main__.MyClass"
      ]
     },
     "execution_count": 5,
     "metadata": {},
     "output_type": "execute_result"
    }
   ],
   "source": [
    "MyInstance.__class__\n",
    "\n",
    "# Quando aparecer __main.MyClass significa que a classe/instância foi criada"
   ]
  },
  {
   "cell_type": "code",
   "execution_count": 8,
   "metadata": {},
   "outputs": [],
   "source": [
    "class MyClass:\n",
    "    def SayHello():\n",
    "        print('Hello World')"
   ]
  },
  {
   "cell_type": "code",
   "execution_count": 12,
   "metadata": {},
   "outputs": [
    {
     "name": "stdout",
     "output_type": "stream",
     "text": [
      "Hello World\n"
     ]
    }
   ],
   "source": [
    "MyInstance = MyClass()\n",
    "MyClass.SayHello()"
   ]
  },
  {
   "attachments": {},
   "cell_type": "markdown",
   "metadata": {},
   "source": [
    "Construtores"
   ]
  },
  {
   "cell_type": "code",
   "execution_count": 17,
   "metadata": {},
   "outputs": [],
   "source": [
    "class MyClass:\n",
    "    Greetings = \"\"\n",
    "\n",
    "    # __init__ - Métodos especial para iniciar os objetos, Criar a instância\n",
    "        # self - Representa a própria instância, aparece logo após __init__\n",
    "    def __init__(self, name = \"there\"):\n",
    "        self.Greetings = name + \"!\"\n",
    "\n",
    "    def SayHello(self):\n",
    "        print(\"Hello {0}\".format(self.Greetings))\n",
    "        "
   ]
  },
  {
   "cell_type": "code",
   "execution_count": 18,
   "metadata": {},
   "outputs": [
    {
     "name": "stdout",
     "output_type": "stream",
     "text": [
      "Hello there!\n"
     ]
    }
   ],
   "source": [
    "MyInstance = MyClass()\n",
    "MyInstance.SayHello()"
   ]
  },
  {
   "cell_type": "code",
   "execution_count": 19,
   "metadata": {},
   "outputs": [
    {
     "name": "stdout",
     "output_type": "stream",
     "text": [
      "Hello Ana!\n"
     ]
    }
   ],
   "source": [
    "MyInstance2 = MyClass(\"Ana\")\n",
    "MyInstance2.SayHello()"
   ]
  },
  {
   "cell_type": "code",
   "execution_count": 20,
   "metadata": {},
   "outputs": [
    {
     "name": "stdout",
     "output_type": "stream",
     "text": [
      "Hello Harry\n"
     ]
    }
   ],
   "source": [
    "MyInstance.Greetings = \"Harry\"\n",
    "MyInstance.SayHello()"
   ]
  },
  {
   "attachments": {},
   "cell_type": "markdown",
   "metadata": {},
   "source": [
    "# Estrutura cachorro\n",
    "Nome e idade // \n",
    "Sentar e rolar"
   ]
  },
  {
   "cell_type": "code",
   "execution_count": 35,
   "metadata": {},
   "outputs": [],
   "source": [
    "class Cachorro:\n",
    "    def __init__(self, nome, idade):\n",
    "        self.nome = nome\n",
    "        self.idade = idade\n",
    "\n",
    "    def Sentar(self):\n",
    "        \"\"\"Simula um cachorro sentando\"\"\"\n",
    "        print(f'{self.nome} está sentado.')\n",
    "    \n",
    "    def Rolar(self):\n",
    "        print(f'{self.nome} está rolando')"
   ]
  },
  {
   "cell_type": "code",
   "execution_count": 36,
   "metadata": {},
   "outputs": [
    {
     "name": "stdout",
     "output_type": "stream",
     "text": [
      "Peter está sentado.\n"
     ]
    }
   ],
   "source": [
    "MyInstance = Cachorro(\"Peter\", \"11\")\n",
    "MyInstance.Sentar()\n"
   ]
  },
  {
   "cell_type": "code",
   "execution_count": 40,
   "metadata": {},
   "outputs": [
    {
     "name": "stdout",
     "output_type": "stream",
     "text": [
      "Luffy está sentado.\n",
      "Saitama está rolando\n"
     ]
    }
   ],
   "source": [
    "Cachorro1 = Cachorro(\"Luffy\", 4)\n",
    "Cachorro2 = Cachorro(\"Saitama\", 6)\n",
    "\n",
    "Cachorro1.Sentar()\n",
    "Cachorro2.Rolar()"
   ]
  },
  {
   "cell_type": "code",
   "execution_count": 43,
   "metadata": {},
   "outputs": [],
   "source": [
    "class Conta:\n",
    "    def __init__(self, quantia):\n",
    "        self.saldo = quantia\n",
    "\n",
    "    def deposito(self, quantia):\n",
    "        self.quantia = self.saldo + quantia\n",
    "        return self.saldo\n",
    "    \n",
    "    def levantamento(self, quantia):\n",
    "        if self.saldo - quantia >= 0:\n",
    "            self.saldo = self.saldo - quantia\n",
    "            return self.saldo\n",
    "        else:\n",
    "            print('Saldo Insuficiente')\n",
    "\n",
    "    def consulta(self):\n",
    "        return self.saldo"
   ]
  },
  {
   "cell_type": "code",
   "execution_count": 44,
   "metadata": {},
   "outputs": [
    {
     "name": "stdout",
     "output_type": "stream",
     "text": [
      "Saldo inicial:  100\n",
      "Saldo após depósito:  100\n",
      "Saldo após levantamento:  70\n",
      "Saldo Insuficiente\n"
     ]
    }
   ],
   "source": [
    "# Teste para conta 1\n",
    "\n",
    "conta1 = Conta(100)\n",
    "print('Saldo inicial: ', conta1.consulta())\n",
    "\n",
    "conta1.deposito(50)\n",
    "print('Saldo após depósito: ', conta1.consulta())\n",
    "\n",
    "conta1.levantamento(30)\n",
    "print('Saldo após levantamento: ', conta1.consulta())\n",
    "\n",
    "conta1.levantamento(200)"
   ]
  },
  {
   "cell_type": "code",
   "execution_count": 51,
   "metadata": {},
   "outputs": [
    {
     "name": "stdout",
     "output_type": "stream",
     "text": [
      "Saldo inicial:  100.0\n",
      "Saldo após depósito:  100.0\n",
      "Saldo após levantamento:  70.0\n",
      "Saldo Insuficiente\n"
     ]
    }
   ],
   "source": [
    "saldo = float(input('Defina o valor da sua conta: '))\n",
    "conta1 = Conta(saldo)\n",
    "print('Saldo inicial: ', conta1.consulta())\n",
    "\n",
    "\n",
    "depositando = float(input('Defina o valor que irá depositar: '))\n",
    "conta1.deposito(depositando)\n",
    "print('Saldo após depósito: ', conta1.consulta())\n",
    "\n",
    "\n",
    "levantando = float(input('Defina o valor do levantamento: '))\n",
    "conta1.levantamento(levantando)\n",
    "print('Saldo após levantamento: ', conta1.consulta())\n",
    "\n",
    "levantando2 = float(input('Defina o valor do levantamento: '))\n",
    "conta1.levantamento(levantando2)"
   ]
  },
  {
   "attachments": {},
   "cell_type": "markdown",
   "metadata": {},
   "source": [
    "Exercicios 01 - Restaurante"
   ]
  },
  {
   "cell_type": "code",
   "execution_count": 52,
   "metadata": {},
   "outputs": [],
   "source": [
    "class Restaurante:\n",
    "    def __init__(self, restaurante_nome, cozinha_tipo):\n",
    "        self.restaurant_nome = restaurante_nome\n",
    "        self.cozinha_tipo = cozinha_tipo\n",
    " \n",
    "    def descricao(self):\n",
    "        print('Nome do restaurante:', self.restaurant_nome)\n",
    "        print('Tipo da cozinha:', self.cozinha_tipo)\n",
    " \n",
    "    def open_restaurante(self):\n",
    "        print('O restaurante', self.restaurant_nome, \"está aberto\")"
   ]
  },
  {
   "cell_type": "code",
   "execution_count": 53,
   "metadata": {},
   "outputs": [
    {
     "name": "stdout",
     "output_type": "stream",
     "text": [
      "Nome do restaurante: Restaurante do mica\n",
      "Tipo da cozinha: Italiano\n",
      "O restaurante Restaurante do mica está aberto\n"
     ]
    }
   ],
   "source": [
    "restaurante1 = Restaurante('Restaurante do mica', 'Italiano')\n",
    "restaurante1.descricao()\n",
    " \n",
    "restaurante1.open_restaurante()"
   ]
  },
  {
   "attachments": {},
   "cell_type": "markdown",
   "metadata": {},
   "source": [
    "Exercicio 02 - carros\n"
   ]
  },
  {
   "cell_type": "code",
   "execution_count": null,
   "metadata": {},
   "outputs": [],
   "source": [
    "class Veiculo:\n",
    "    def __init__(self, marca, modelo, ano):\n",
    "        self.marca = marca\n",
    "        self.modelo = modelo\n",
    "        self.ano = ano\n",
    "        \n",
    "    def ligar(self):\n",
    "        print('Carro está ligando')\n",
    "\n",
    "    def desligar(self):\n",
    "        print('Carro está desligado')"
   ]
  }
 ],
 "metadata": {
  "kernelspec": {
   "display_name": "Python 3",
   "language": "python",
   "name": "python3"
  },
  "language_info": {
   "codemirror_mode": {
    "name": "ipython",
    "version": 3
   },
   "file_extension": ".py",
   "mimetype": "text/x-python",
   "name": "python",
   "nbconvert_exporter": "python",
   "pygments_lexer": "ipython3",
   "version": "3.11.4"
  },
  "orig_nbformat": 4
 },
 "nbformat": 4,
 "nbformat_minor": 2
}
