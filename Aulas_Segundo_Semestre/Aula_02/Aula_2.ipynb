{
 "cells": [
  {
   "cell_type": "code",
   "execution_count": 1,
   "metadata": {},
   "outputs": [
    {
     "name": "stdout",
     "output_type": "stream",
     "text": [
      "Collecting sympyNote: you may need to restart the kernel to use updated packages.\n",
      "\n",
      "  Downloading sympy-1.12-py3-none-any.whl (5.7 MB)\n",
      "                                              0.0/5.7 MB ? eta -:--:--\n",
      "     --                                       0.3/5.7 MB 9.6 MB/s eta 0:00:01\n",
      "     -----                                    0.7/5.7 MB 7.8 MB/s eta 0:00:01\n",
      "     ---------                                1.3/5.7 MB 9.2 MB/s eta 0:00:01\n",
      "     ------------                             1.8/5.7 MB 10.4 MB/s eta 0:00:01\n",
      "     ------------                             1.8/5.7 MB 10.4 MB/s eta 0:00:01\n",
      "     ------------                             1.8/5.7 MB 10.4 MB/s eta 0:00:01\n",
      "     ------------                             1.8/5.7 MB 10.4 MB/s eta 0:00:01\n",
      "     ------------                             1.8/5.7 MB 10.4 MB/s eta 0:00:01\n",
      "     ------------                             1.8/5.7 MB 10.4 MB/s eta 0:00:01\n",
      "     ------------                             1.8/5.7 MB 10.4 MB/s eta 0:00:01\n",
      "     ------------                             1.8/5.7 MB 10.4 MB/s eta 0:00:01\n",
      "     ------------                             1.8/5.7 MB 10.4 MB/s eta 0:00:01\n",
      "     ------------                             1.8/5.7 MB 10.4 MB/s eta 0:00:01\n",
      "     ------------                             1.8/5.7 MB 10.4 MB/s eta 0:00:01\n",
      "     ------------                             1.8/5.7 MB 10.4 MB/s eta 0:00:01\n",
      "     ------------                             1.8/5.7 MB 10.4 MB/s eta 0:00:01\n",
      "     ------------                             1.8/5.7 MB 10.4 MB/s eta 0:00:01\n",
      "     ------------                             1.8/5.7 MB 10.4 MB/s eta 0:00:01\n",
      "     -------------                            2.0/5.7 MB 2.2 MB/s eta 0:00:02\n",
      "     -----------------                        2.4/5.7 MB 2.6 MB/s eta 0:00:02\n",
      "     --------------------                     3.0/5.7 MB 3.0 MB/s eta 0:00:01\n",
      "     ------------------------                 3.6/5.7 MB 3.5 MB/s eta 0:00:01\n",
      "     -------------------------                3.6/5.7 MB 3.5 MB/s eta 0:00:01\n",
      "     -------------------------                3.6/5.7 MB 3.5 MB/s eta 0:00:01\n",
      "     -------------------------                3.6/5.7 MB 3.5 MB/s eta 0:00:01\n",
      "     -------------------------                3.6/5.7 MB 3.5 MB/s eta 0:00:01\n",
      "     -------------------------                3.6/5.7 MB 3.5 MB/s eta 0:00:01\n",
      "     ---------------------------              3.9/5.7 MB 3.0 MB/s eta 0:00:01\n",
      "     ------------------------------           4.4/5.7 MB 3.2 MB/s eta 0:00:01\n",
      "     ---------------------------------        4.8/5.7 MB 3.4 MB/s eta 0:00:01\n",
      "     ------------------------------------     5.3/5.7 MB 3.6 MB/s eta 0:00:01\n",
      "     --------------------------------------   5.5/5.7 MB 3.7 MB/s eta 0:00:01\n",
      "     --------------------------------------   5.5/5.7 MB 3.7 MB/s eta 0:00:01\n",
      "     --------------------------------------   5.5/5.7 MB 3.7 MB/s eta 0:00:01\n",
      "     --------------------------------------   5.5/5.7 MB 3.7 MB/s eta 0:00:01\n",
      "     --------------------------------------   5.5/5.7 MB 3.7 MB/s eta 0:00:01\n",
      "     --------------------------------------   5.5/5.7 MB 3.7 MB/s eta 0:00:01\n",
      "     --------------------------------------   5.5/5.7 MB 3.7 MB/s eta 0:00:01\n",
      "     --------------------------------------   5.5/5.7 MB 3.7 MB/s eta 0:00:01\n",
      "     --------------------------------------   5.5/5.7 MB 3.7 MB/s eta 0:00:01\n",
      "     --------------------------------------   5.5/5.7 MB 3.7 MB/s eta 0:00:01\n",
      "     --------------------------------------   5.5/5.7 MB 3.7 MB/s eta 0:00:01\n",
      "     --------------------------------------   5.5/5.7 MB 3.7 MB/s eta 0:00:01\n",
      "     --------------------------------------   5.5/5.7 MB 3.7 MB/s eta 0:00:01\n",
      "     --------------------------------------   5.5/5.7 MB 3.7 MB/s eta 0:00:01\n",
      "     --------------------------------------   5.5/5.7 MB 2.6 MB/s eta 0:00:01\n",
      "     ---------------------------------------  5.7/5.7 MB 2.6 MB/s eta 0:00:01\n",
      "     ---------------------------------------- 5.7/5.7 MB 2.5 MB/s eta 0:00:00\n",
      "Collecting mpmath>=0.19 (from sympy)\n",
      "  Downloading mpmath-1.3.0-py3-none-any.whl (536 kB)\n",
      "                                              0.0/536.2 kB ? eta -:--:--\n",
      "     -----------------------                337.9/536.2 kB 7.0 MB/s eta 0:00:01\n",
      "     -------------------------------------- 536.2/536.2 kB 6.7 MB/s eta 0:00:00\n",
      "Installing collected packages: mpmath, sympy\n",
      "Successfully installed mpmath-1.3.0 sympy-1.12\n"
     ]
    },
    {
     "name": "stderr",
     "output_type": "stream",
     "text": [
      "\n",
      "[notice] A new release of pip is available: 23.1.2 -> 24.0\n",
      "[notice] To update, run: python.exe -m pip install --upgrade pip\n"
     ]
    }
   ],
   "source": [
    "pip install sympy"
   ]
  },
  {
   "cell_type": "code",
   "execution_count": 2,
   "metadata": {},
   "outputs": [
    {
     "name": "stdout",
     "output_type": "stream",
     "text": [
      "Collecting pandas\n",
      "  Downloading pandas-2.2.0-cp311-cp311-win_amd64.whl (11.6 MB)\n",
      "                                              0.0/11.6 MB ? eta -:--:--\n",
      "     -                                        0.5/11.6 MB 16.8 MB/s eta 0:00:01\n",
      "     ---                                      1.1/11.6 MB 13.9 MB/s eta 0:00:01\n",
      "     -----                                    1.7/11.6 MB 13.2 MB/s eta 0:00:01\n",
      "     ------                                   1.8/11.6 MB 12.9 MB/s eta 0:00:01\n",
      "     ------                                   1.8/11.6 MB 12.9 MB/s eta 0:00:01\n",
      "     ------                                   1.8/11.6 MB 12.9 MB/s eta 0:00:01\n",
      "     ------                                   1.8/11.6 MB 12.9 MB/s eta 0:00:01\n",
      "     ------                                   1.8/11.6 MB 12.9 MB/s eta 0:00:01\n",
      "     ------                                   1.8/11.6 MB 12.9 MB/s eta 0:00:01\n",
      "     ------                                   1.8/11.6 MB 12.9 MB/s eta 0:00:01\n",
      "     ------                                   1.8/11.6 MB 12.9 MB/s eta 0:00:01\n",
      "     ------                                   1.8/11.6 MB 12.9 MB/s eta 0:00:01\n",
      "     ------                                   1.8/11.6 MB 12.9 MB/s eta 0:00:01\n",
      "     ------                                   1.8/11.6 MB 12.9 MB/s eta 0:00:01\n",
      "     ------                                   1.8/11.6 MB 12.9 MB/s eta 0:00:01\n",
      "     ------                                   1.8/11.6 MB 12.9 MB/s eta 0:00:01\n",
      "     ------                                   1.8/11.6 MB 12.9 MB/s eta 0:00:01\n",
      "     -------                                  2.1/11.6 MB 2.5 MB/s eta 0:00:04\n",
      "     ---------                                2.6/11.6 MB 2.9 MB/s eta 0:00:04\n",
      "     -----------                              3.2/11.6 MB 3.4 MB/s eta 0:00:03\n",
      "     ------------                             3.7/11.6 MB 3.7 MB/s eta 0:00:03\n",
      "     ------------                             3.7/11.6 MB 3.7 MB/s eta 0:00:03\n",
      "     ------------                             3.7/11.6 MB 3.7 MB/s eta 0:00:03\n",
      "     ------------                             3.7/11.6 MB 3.7 MB/s eta 0:00:03\n",
      "     ------------                             3.7/11.6 MB 3.7 MB/s eta 0:00:03\n",
      "     ------------                             3.7/11.6 MB 3.7 MB/s eta 0:00:03\n",
      "     ------------                             3.7/11.6 MB 3.7 MB/s eta 0:00:03\n",
      "     ------------                             3.7/11.6 MB 3.7 MB/s eta 0:00:03\n",
      "     ------------                             3.7/11.6 MB 3.7 MB/s eta 0:00:03\n",
      "     ------------                             3.7/11.6 MB 3.7 MB/s eta 0:00:03\n",
      "     ------------                             3.7/11.6 MB 3.7 MB/s eta 0:00:03\n",
      "     ------------                             3.7/11.6 MB 3.7 MB/s eta 0:00:03\n",
      "     ------------                             3.7/11.6 MB 3.7 MB/s eta 0:00:03\n",
      "     ------------                             3.7/11.6 MB 3.7 MB/s eta 0:00:03\n",
      "     -------------                            4.0/11.6 MB 2.4 MB/s eta 0:00:04\n",
      "     ---------------                          4.4/11.6 MB 2.6 MB/s eta 0:00:03\n",
      "     ----------------                         4.8/11.6 MB 2.7 MB/s eta 0:00:03\n",
      "     -----------------                        5.2/11.6 MB 2.9 MB/s eta 0:00:03\n",
      "     -------------------                      5.5/11.6 MB 3.0 MB/s eta 0:00:03\n",
      "     -------------------                      5.5/11.6 MB 3.0 MB/s eta 0:00:03\n",
      "     -------------------                      5.5/11.6 MB 3.0 MB/s eta 0:00:03\n",
      "     -------------------                      5.5/11.6 MB 3.0 MB/s eta 0:00:03\n",
      "     -------------------                      5.5/11.6 MB 3.0 MB/s eta 0:00:03\n",
      "     -------------------                      5.5/11.6 MB 3.0 MB/s eta 0:00:03\n",
      "     -------------------                      5.5/11.6 MB 3.0 MB/s eta 0:00:03\n",
      "     -------------------                      5.5/11.6 MB 3.0 MB/s eta 0:00:03\n",
      "     -------------------                      5.5/11.6 MB 3.0 MB/s eta 0:00:03\n",
      "     -------------------                      5.5/11.6 MB 3.0 MB/s eta 0:00:03\n",
      "     -------------------                      5.5/11.6 MB 3.0 MB/s eta 0:00:03\n",
      "     -------------------                      5.5/11.6 MB 3.0 MB/s eta 0:00:03\n",
      "     -------------------                      5.5/11.6 MB 3.0 MB/s eta 0:00:03\n",
      "     -------------------                      5.5/11.6 MB 3.0 MB/s eta 0:00:03\n",
      "     -------------------                      5.6/11.6 MB 2.2 MB/s eta 0:00:03\n",
      "     --------------------                     6.0/11.6 MB 2.3 MB/s eta 0:00:03\n",
      "     ---------------------                    6.3/11.6 MB 2.4 MB/s eta 0:00:03\n",
      "     -----------------------                  6.7/11.6 MB 2.5 MB/s eta 0:00:02\n",
      "     ------------------------                 7.2/11.6 MB 2.7 MB/s eta 0:00:02\n",
      "     -------------------------                7.4/11.6 MB 2.7 MB/s eta 0:00:02\n",
      "     -------------------------                7.4/11.6 MB 2.7 MB/s eta 0:00:02\n",
      "     -------------------------                7.4/11.6 MB 2.7 MB/s eta 0:00:02\n",
      "     -------------------------                7.4/11.6 MB 2.7 MB/s eta 0:00:02\n",
      "     -------------------------                7.4/11.6 MB 2.7 MB/s eta 0:00:02\n",
      "     -------------------------                7.4/11.6 MB 2.7 MB/s eta 0:00:02\n",
      "     -------------------------                7.4/11.6 MB 2.7 MB/s eta 0:00:02\n",
      "     -------------------------                7.4/11.6 MB 2.7 MB/s eta 0:00:02\n",
      "     -------------------------                7.4/11.6 MB 2.7 MB/s eta 0:00:02\n",
      "     -------------------------                7.4/11.6 MB 2.7 MB/s eta 0:00:02\n",
      "     -------------------------                7.4/11.6 MB 2.7 MB/s eta 0:00:02\n",
      "     -------------------------                7.4/11.6 MB 2.7 MB/s eta 0:00:02\n",
      "     -------------------------                7.4/11.6 MB 2.7 MB/s eta 0:00:02\n",
      "     -------------------------                7.4/11.6 MB 2.2 MB/s eta 0:00:02\n",
      "     --------------------------               7.8/11.6 MB 2.3 MB/s eta 0:00:02\n",
      "     ----------------------------             8.3/11.6 MB 2.4 MB/s eta 0:00:02\n",
      "     ------------------------------           8.9/11.6 MB 2.5 MB/s eta 0:00:02\n",
      "     -------------------------------          9.2/11.6 MB 2.6 MB/s eta 0:00:01\n",
      "     -------------------------------          9.2/11.6 MB 2.6 MB/s eta 0:00:01\n",
      "     -------------------------------          9.2/11.6 MB 2.6 MB/s eta 0:00:01\n",
      "     -------------------------------          9.2/11.6 MB 2.6 MB/s eta 0:00:01\n",
      "     -------------------------------          9.2/11.6 MB 2.6 MB/s eta 0:00:01\n",
      "     --------------------------------         9.4/11.6 MB 2.5 MB/s eta 0:00:01\n",
      "     ----------------------------------       9.9/11.6 MB 2.6 MB/s eta 0:00:01\n",
      "     ------------------------------------     10.5/11.6 MB 2.6 MB/s eta 0:00:01\n",
      "     --------------------------------------   11.0/11.6 MB 2.6 MB/s eta 0:00:01\n",
      "     --------------------------------------   11.1/11.6 MB 2.6 MB/s eta 0:00:01\n",
      "     --------------------------------------   11.1/11.6 MB 2.6 MB/s eta 0:00:01\n",
      "     --------------------------------------   11.1/11.6 MB 2.6 MB/s eta 0:00:01\n",
      "     --------------------------------------   11.1/11.6 MB 2.6 MB/s eta 0:00:01\n",
      "     --------------------------------------   11.1/11.6 MB 2.6 MB/s eta 0:00:01\n",
      "     --------------------------------------   11.1/11.6 MB 2.6 MB/s eta 0:00:01\n",
      "     --------------------------------------   11.1/11.6 MB 2.6 MB/s eta 0:00:01\n",
      "     --------------------------------------   11.1/11.6 MB 2.6 MB/s eta 0:00:01\n",
      "     --------------------------------------   11.1/11.6 MB 2.6 MB/s eta 0:00:01\n",
      "     --------------------------------------   11.1/11.6 MB 2.6 MB/s eta 0:00:01\n",
      "     --------------------------------------   11.1/11.6 MB 2.6 MB/s eta 0:00:01\n",
      "     --------------------------------------   11.1/11.6 MB 2.6 MB/s eta 0:00:01\n",
      "     --------------------------------------   11.2/11.6 MB 2.3 MB/s eta 0:00:01\n",
      "     ---------------------------------------  11.6/11.6 MB 2.3 MB/s eta 0:00:01\n",
      "     ---------------------------------------  11.6/11.6 MB 2.3 MB/s eta 0:00:01\n",
      "     ---------------------------------------  11.6/11.6 MB 2.3 MB/s eta 0:00:01\n",
      "     ---------------------------------------- 11.6/11.6 MB 2.2 MB/s eta 0:00:00\n",
      "Collecting numpy<2,>=1.23.2 (from pandas)\n",
      "  Downloading numpy-1.26.4-cp311-cp311-win_amd64.whl (15.8 MB)\n",
      "                                              0.0/15.8 MB ? eta -:--:--\n",
      "     -                                        0.5/15.8 MB 10.0 MB/s eta 0:00:02\n",
      "     --                                       1.0/15.8 MB 11.0 MB/s eta 0:00:02\n",
      "     ----                                     1.6/15.8 MB 11.4 MB/s eta 0:00:02\n",
      "     ----                                     1.8/15.8 MB 10.7 MB/s eta 0:00:02\n",
      "     ----                                     1.8/15.8 MB 10.7 MB/s eta 0:00:02\n",
      "     ----                                     1.8/15.8 MB 10.7 MB/s eta 0:00:02\n",
      "     ----                                     1.8/15.8 MB 10.7 MB/s eta 0:00:02\n",
      "     ----                                     1.8/15.8 MB 10.7 MB/s eta 0:00:02\n",
      "     ----                                     1.8/15.8 MB 10.7 MB/s eta 0:00:02\n",
      "     ----                                     1.8/15.8 MB 10.7 MB/s eta 0:00:02\n",
      "     ----                                     1.8/15.8 MB 10.7 MB/s eta 0:00:02\n",
      "     ----                                     1.8/15.8 MB 10.7 MB/s eta 0:00:02\n",
      "     ----                                     1.8/15.8 MB 10.7 MB/s eta 0:00:02\n",
      "     ----                                     1.8/15.8 MB 10.7 MB/s eta 0:00:02\n",
      "     ----                                     1.8/15.8 MB 10.7 MB/s eta 0:00:02\n",
      "     ----                                     1.8/15.8 MB 10.7 MB/s eta 0:00:02\n",
      "     ----                                     1.8/15.8 MB 10.7 MB/s eta 0:00:02\n",
      "     -----                                    2.2/15.8 MB 2.6 MB/s eta 0:00:06\n",
      "     -------                                  2.8/15.8 MB 3.1 MB/s eta 0:00:05\n",
      "     --------                                 3.2/15.8 MB 3.4 MB/s eta 0:00:04\n",
      "     ---------                                3.7/15.8 MB 3.7 MB/s eta 0:00:04\n",
      "     ---------                                3.7/15.8 MB 3.7 MB/s eta 0:00:04\n",
      "     ---------                                3.7/15.8 MB 3.7 MB/s eta 0:00:04\n",
      "     ---------                                3.7/15.8 MB 3.7 MB/s eta 0:00:04\n",
      "     ---------                                3.7/15.8 MB 3.7 MB/s eta 0:00:04\n",
      "     ---------                                3.7/15.8 MB 3.7 MB/s eta 0:00:04\n",
      "     ---------                                3.7/15.8 MB 3.7 MB/s eta 0:00:04\n",
      "     ---------                                3.7/15.8 MB 3.7 MB/s eta 0:00:04\n",
      "     ---------                                3.7/15.8 MB 3.7 MB/s eta 0:00:04\n",
      "     ---------                                3.7/15.8 MB 3.7 MB/s eta 0:00:04\n",
      "     ---------                                3.7/15.8 MB 3.7 MB/s eta 0:00:04\n",
      "     ---------                                3.7/15.8 MB 3.7 MB/s eta 0:00:04\n",
      "     ---------                                3.7/15.8 MB 3.7 MB/s eta 0:00:04\n",
      "     ---------                                3.7/15.8 MB 3.7 MB/s eta 0:00:04\n",
      "     ----------                               4.0/15.8 MB 2.4 MB/s eta 0:00:05\n",
      "     -----------                              4.4/15.8 MB 2.6 MB/s eta 0:00:05\n",
      "     ------------                             4.9/15.8 MB 2.8 MB/s eta 0:00:04\n",
      "     -------------                            5.3/15.8 MB 2.9 MB/s eta 0:00:04\n",
      "     --------------                           5.5/15.8 MB 3.0 MB/s eta 0:00:04\n",
      "     --------------                           5.5/15.8 MB 3.0 MB/s eta 0:00:04\n",
      "     --------------                           5.5/15.8 MB 3.0 MB/s eta 0:00:04\n",
      "     --------------                           5.5/15.8 MB 3.0 MB/s eta 0:00:04\n",
      "     --------------                           5.5/15.8 MB 3.0 MB/s eta 0:00:04\n",
      "     --------------                           5.5/15.8 MB 3.0 MB/s eta 0:00:04\n",
      "     --------------                           5.5/15.8 MB 3.0 MB/s eta 0:00:04\n",
      "     --------------                           5.5/15.8 MB 3.0 MB/s eta 0:00:04\n",
      "     --------------                           5.5/15.8 MB 3.0 MB/s eta 0:00:04\n",
      "     --------------                           5.5/15.8 MB 3.0 MB/s eta 0:00:04\n",
      "     --------------                           5.5/15.8 MB 3.0 MB/s eta 0:00:04\n",
      "     --------------                           5.5/15.8 MB 3.0 MB/s eta 0:00:04\n",
      "     --------------                           5.5/15.8 MB 3.0 MB/s eta 0:00:04\n",
      "     --------------                           5.5/15.8 MB 3.0 MB/s eta 0:00:04\n",
      "     ---------------                          6.0/15.8 MB 2.4 MB/s eta 0:00:05\n",
      "     ----------------                         6.4/15.8 MB 2.5 MB/s eta 0:00:04\n",
      "     -----------------                        6.9/15.8 MB 2.6 MB/s eta 0:00:04\n",
      "     ------------------                       7.4/15.8 MB 2.8 MB/s eta 0:00:04\n",
      "     ------------------                       7.4/15.8 MB 2.8 MB/s eta 0:00:04\n",
      "     ------------------                       7.4/15.8 MB 2.8 MB/s eta 0:00:04\n",
      "     ------------------                       7.4/15.8 MB 2.8 MB/s eta 0:00:04\n",
      "     ------------------                       7.4/15.8 MB 2.8 MB/s eta 0:00:04\n",
      "     ------------------                       7.4/15.8 MB 2.8 MB/s eta 0:00:04\n",
      "     ------------------                       7.4/15.8 MB 2.8 MB/s eta 0:00:04\n",
      "     ------------------                       7.4/15.8 MB 2.8 MB/s eta 0:00:04\n",
      "     ------------------                       7.4/15.8 MB 2.8 MB/s eta 0:00:04\n",
      "     ------------------                       7.4/15.8 MB 2.8 MB/s eta 0:00:04\n",
      "     ------------------                       7.4/15.8 MB 2.8 MB/s eta 0:00:04\n",
      "     ------------------                       7.4/15.8 MB 2.8 MB/s eta 0:00:04\n",
      "     ------------------                       7.4/15.8 MB 2.8 MB/s eta 0:00:04\n",
      "     ------------------                       7.4/15.8 MB 2.8 MB/s eta 0:00:04\n",
      "     -------------------                      7.7/15.8 MB 2.3 MB/s eta 0:00:04\n",
      "     --------------------                     8.2/15.8 MB 2.4 MB/s eta 0:00:04\n",
      "     ----------------------                   8.7/15.8 MB 2.5 MB/s eta 0:00:03\n",
      "     -----------------------                  9.3/15.8 MB 2.7 MB/s eta 0:00:03\n",
      "     -----------------------                  9.3/15.8 MB 2.7 MB/s eta 0:00:03\n",
      "     -----------------------                  9.3/15.8 MB 2.7 MB/s eta 0:00:03\n",
      "     -----------------------                  9.3/15.8 MB 2.7 MB/s eta 0:00:03\n",
      "     -----------------------                  9.3/15.8 MB 2.7 MB/s eta 0:00:03\n",
      "     -----------------------                  9.3/15.8 MB 2.7 MB/s eta 0:00:03\n",
      "     -----------------------                  9.3/15.8 MB 2.7 MB/s eta 0:00:03\n",
      "     -----------------------                  9.3/15.8 MB 2.7 MB/s eta 0:00:03\n",
      "     -----------------------                  9.3/15.8 MB 2.7 MB/s eta 0:00:03\n",
      "     -----------------------                  9.3/15.8 MB 2.7 MB/s eta 0:00:03\n",
      "     -----------------------                  9.3/15.8 MB 2.7 MB/s eta 0:00:03\n",
      "     -----------------------                  9.3/15.8 MB 2.7 MB/s eta 0:00:03\n",
      "     -----------------------                  9.3/15.8 MB 2.7 MB/s eta 0:00:03\n",
      "     -----------------------                  9.3/15.8 MB 2.7 MB/s eta 0:00:03\n",
      "     ------------------------                 9.5/15.8 MB 2.3 MB/s eta 0:00:03\n",
      "     -------------------------                10.1/15.8 MB 2.4 MB/s eta 0:00:03\n",
      "     --------------------------               10.6/15.8 MB 2.4 MB/s eta 0:00:03\n",
      "     ----------------------------             11.1/15.8 MB 2.4 MB/s eta 0:00:02\n",
      "     ----------------------------             11.1/15.8 MB 2.4 MB/s eta 0:00:02\n",
      "     ----------------------------             11.1/15.8 MB 2.4 MB/s eta 0:00:02\n",
      "     ----------------------------             11.1/15.8 MB 2.4 MB/s eta 0:00:02\n",
      "     ----------------------------             11.1/15.8 MB 2.4 MB/s eta 0:00:02\n",
      "     ----------------------------             11.1/15.8 MB 2.4 MB/s eta 0:00:02\n",
      "     ----------------------------             11.1/15.8 MB 2.4 MB/s eta 0:00:02\n",
      "     ----------------------------             11.1/15.8 MB 2.4 MB/s eta 0:00:02\n",
      "     ----------------------------             11.1/15.8 MB 2.4 MB/s eta 0:00:02\n",
      "     ----------------------------             11.1/15.8 MB 2.4 MB/s eta 0:00:02\n",
      "     ----------------------------             11.1/15.8 MB 2.4 MB/s eta 0:00:02\n",
      "     ----------------------------             11.1/15.8 MB 2.4 MB/s eta 0:00:02\n",
      "     ----------------------------             11.1/15.8 MB 2.4 MB/s eta 0:00:02\n",
      "     ----------------------------             11.1/15.8 MB 2.4 MB/s eta 0:00:02\n",
      "     -----------------------------            11.5/15.8 MB 2.1 MB/s eta 0:00:03\n",
      "     ------------------------------           12.0/15.8 MB 2.1 MB/s eta 0:00:02\n",
      "     -------------------------------          12.3/15.8 MB 2.4 MB/s eta 0:00:02\n",
      "     -------------------------------          12.5/15.8 MB 2.4 MB/s eta 0:00:02\n",
      "     --------------------------------         12.7/15.8 MB 2.4 MB/s eta 0:00:02\n",
      "     --------------------------------         13.0/15.8 MB 2.4 MB/s eta 0:00:02\n",
      "     --------------------------------         13.0/15.8 MB 2.4 MB/s eta 0:00:02\n",
      "     --------------------------------         13.0/15.8 MB 2.4 MB/s eta 0:00:02\n",
      "     --------------------------------         13.0/15.8 MB 2.4 MB/s eta 0:00:02\n",
      "     --------------------------------         13.0/15.8 MB 2.4 MB/s eta 0:00:02\n",
      "     --------------------------------         13.0/15.8 MB 2.4 MB/s eta 0:00:02\n",
      "     --------------------------------         13.0/15.8 MB 2.4 MB/s eta 0:00:02\n",
      "     --------------------------------         13.0/15.8 MB 2.4 MB/s eta 0:00:02\n",
      "     --------------------------------         13.0/15.8 MB 2.4 MB/s eta 0:00:02\n",
      "     --------------------------------         13.0/15.8 MB 2.4 MB/s eta 0:00:02\n",
      "     --------------------------------         13.0/15.8 MB 2.4 MB/s eta 0:00:02\n",
      "     --------------------------------         13.0/15.8 MB 2.4 MB/s eta 0:00:02\n",
      "     --------------------------------         13.0/15.8 MB 2.4 MB/s eta 0:00:02\n",
      "     --------------------------------         13.0/15.8 MB 2.4 MB/s eta 0:00:02\n",
      "     ---------------------------------        13.1/15.8 MB 2.1 MB/s eta 0:00:02\n",
      "     ---------------------------------        13.3/15.8 MB 2.1 MB/s eta 0:00:02\n",
      "     ----------------------------------       13.6/15.8 MB 2.1 MB/s eta 0:00:02\n",
      "     -----------------------------------      14.0/15.8 MB 2.3 MB/s eta 0:00:01\n",
      "     ------------------------------------     14.6/15.8 MB 2.4 MB/s eta 0:00:01\n",
      "     -------------------------------------    14.8/15.8 MB 2.4 MB/s eta 0:00:01\n",
      "     -------------------------------------    14.8/15.8 MB 2.4 MB/s eta 0:00:01\n",
      "     -------------------------------------    14.8/15.8 MB 2.4 MB/s eta 0:00:01\n",
      "     -------------------------------------    14.8/15.8 MB 2.4 MB/s eta 0:00:01\n",
      "     -------------------------------------    14.8/15.8 MB 2.4 MB/s eta 0:00:01\n",
      "     --------------------------------------   15.4/15.8 MB 2.2 MB/s eta 0:00:01\n",
      "     ---------------------------------------  15.7/15.8 MB 2.2 MB/s eta 0:00:01\n",
      "     ---------------------------------------  15.8/15.8 MB 2.6 MB/s eta 0:00:01\n",
      "     ---------------------------------------  15.8/15.8 MB 2.6 MB/s eta 0:00:01\n",
      "     ---------------------------------------- 15.8/15.8 MB 2.5 MB/s eta 0:00:00\n",
      "Requirement already satisfied: python-dateutil>=2.8.2 in c:\\python311\\lib\\site-packages (from pandas) (2.8.2)\n",
      "Collecting pytz>=2020.1 (from pandas)\n",
      "  Downloading pytz-2024.1-py2.py3-none-any.whl (505 kB)\n",
      "                                              0.0/505.5 kB ? eta -:--:--\n",
      "     -----------------------------------   481.3/505.5 kB 10.2 MB/s eta 0:00:01\n",
      "     -------------------------------------- 505.5/505.5 kB 6.3 MB/s eta 0:00:00\n",
      "Collecting tzdata>=2022.7 (from pandas)\n",
      "  Downloading tzdata-2024.1-py2.py3-none-any.whl (345 kB)\n",
      "                                              0.0/345.4 kB ? eta -:--:--\n",
      "     ------------------------------------- 345.4/345.4 kB 10.8 MB/s eta 0:00:00\n",
      "Requirement already satisfied: six>=1.5 in c:\\python311\\lib\\site-packages (from python-dateutil>=2.8.2->pandas) (1.16.0)\n",
      "Installing collected packages: pytz, tzdata, numpy, pandas\n",
      "Successfully installed numpy-1.26.4 pandas-2.2.0 pytz-2024.1 tzdata-2024.1\n",
      "Note: you may need to restart the kernel to use updated packages.\n"
     ]
    },
    {
     "name": "stderr",
     "output_type": "stream",
     "text": [
      "\n",
      "[notice] A new release of pip is available: 23.1.2 -> 24.0\n",
      "[notice] To update, run: python.exe -m pip install --upgrade pip\n"
     ]
    }
   ],
   "source": [
    "pip install pandas"
   ]
  },
  {
   "cell_type": "code",
   "execution_count": 3,
   "metadata": {},
   "outputs": [
    {
     "name": "stderr",
     "output_type": "stream",
     "text": [
      "C:\\Users\\logonrmlocal\\AppData\\Local\\Temp\\ipykernel_8156\\4080736814.py:1: DeprecationWarning: \n",
      "Pyarrow will become a required dependency of pandas in the next major release of pandas (pandas 3.0),\n",
      "(to allow more performant data types, such as the Arrow string type, and better interoperability with other libraries)\n",
      "but was not found to be installed on your system.\n",
      "If this would cause problems for you,\n",
      "please provide us feedback at https://github.com/pandas-dev/pandas/issues/54466\n",
      "        \n",
      "  import pandas as pd\n"
     ]
    }
   ],
   "source": [
    "import pandas as pd"
   ]
  },
  {
   "cell_type": "code",
   "execution_count": 4,
   "metadata": {},
   "outputs": [
    {
     "data": {
      "text/plain": [
       "('maçã', 'banana', 'laranja', 'uva')"
      ]
     },
     "execution_count": 4,
     "metadata": {},
     "output_type": "execute_result"
    }
   ],
   "source": [
    "frutas = (['maçã', 'banana', 'laranja', 'uva'])\n",
    "tuple(frutas)"
   ]
  },
  {
   "cell_type": "code",
   "execution_count": 5,
   "metadata": {},
   "outputs": [
    {
     "data": {
      "text/plain": [
       "'banana'"
      ]
     },
     "execution_count": 5,
     "metadata": {},
     "output_type": "execute_result"
    }
   ],
   "source": [
    "frutas[1]"
   ]
  },
  {
   "cell_type": "code",
   "execution_count": 23,
   "metadata": {},
   "outputs": [
    {
     "data": {
      "text/plain": [
       "('maçã', 'banana', 'manga', 'uva')"
      ]
     },
     "execution_count": 23,
     "metadata": {},
     "output_type": "execute_result"
    }
   ],
   "source": [
    "#3\n",
    "frutas_modificadas = list(frutas)\n",
    "frutas_modificadas[2] = 'manga'\n",
    "\n",
    "frutas_modificadas = tuple(frutas_modificadas)\n",
    "frutas_modificadas\n"
   ]
  },
  {
   "cell_type": "code",
   "execution_count": 31,
   "metadata": {},
   "outputs": [
    {
     "data": {
      "text/plain": [
       "('maçã', 'banana', 'manga', 'uva', 'abacaxi', 'limao')"
      ]
     },
     "execution_count": 31,
     "metadata": {},
     "output_type": "execute_result"
    }
   ],
   "source": [
    "#4\n",
    "frutas_concatenadas = frutas_modificadas + ('abacaxi', 'limao')\n",
    "frutas_concatenadas\n",
    "\n",
    "\n"
   ]
  },
  {
   "cell_type": "code",
   "execution_count": 34,
   "metadata": {},
   "outputs": [
    {
     "name": "stdout",
     "output_type": "stream",
     "text": [
      "Uva está na lista\n"
     ]
    }
   ],
   "source": [
    "#5\n",
    "if 'uva' in frutas_concatenadas:\n",
    "    print('Uva está na lista')\n",
    "else:\n",
    "    print('Ela não existe')\n"
   ]
  },
  {
   "cell_type": "code",
   "execution_count": 44,
   "metadata": {},
   "outputs": [
    {
     "name": "stdout",
     "output_type": "stream",
     "text": [
      "A banana está no indice 1\n"
     ]
    }
   ],
   "source": [
    "#6\n",
    "indice = []\n",
    "frutas_concatenadas = list(frutas_concatenadas)\n",
    "for item in frutas_concatenadas:\n",
    "    if item == 'banana':\n",
    "        Index = frutas_concatenadas.index(item)\n",
    "        indice.append(Index)\n",
    "    else:\n",
    "        pass\n",
    "\n",
    "frutas_concatenadas = tuple(frutas_concatenadas)\n",
    "indice[0]\n",
    "print('A banana está no indice', indice[0])\n"
   ]
  },
  {
   "cell_type": "code",
   "execution_count": 45,
   "metadata": {},
   "outputs": [
    {
     "name": "stdout",
     "output_type": "stream",
     "text": [
      "O intem uva aparece 1\n"
     ]
    }
   ],
   "source": [
    "#7\n",
    "print('O intem uva aparece', frutas_concatenadas.count('uva'))"
   ]
  },
  {
   "cell_type": "code",
   "execution_count": 60,
   "metadata": {},
   "outputs": [
    {
     "data": {
      "text/plain": [
       "(1, 2, 3, 4, 5)"
      ]
     },
     "execution_count": 60,
     "metadata": {},
     "output_type": "execute_result"
    }
   ],
   "source": [
    "#8\n",
    "lista = (1,2,3,4,5)\n",
    "lista"
   ]
  },
  {
   "cell_type": "code",
   "execution_count": 61,
   "metadata": {},
   "outputs": [
    {
     "data": {
      "text/plain": [
       "(2, 4, 6, 8, 10)"
      ]
     },
     "execution_count": 61,
     "metadata": {},
     "output_type": "execute_result"
    }
   ],
   "source": [
    "#9\n",
    "numero_dobrado = []\n",
    "\n",
    "for item in lista:\n",
    "    resultado = item * 2\n",
    "    numero_dobrado.append(resultado)\n",
    "\n",
    "numero_dobrado = tuple(numero_dobrado)\n",
    "numero_dobrado"
   ]
  },
  {
   "attachments": {},
   "cell_type": "markdown",
   "metadata": {},
   "source": []
  },
  {
   "cell_type": "code",
   "execution_count": 62,
   "metadata": {},
   "outputs": [
    {
     "name": "stderr",
     "output_type": "stream",
     "text": [
      "<>:2: SyntaxWarning: 'int' object is not callable; perhaps you missed a comma?\n",
      "<>:2: SyntaxWarning: 'int' object is not callable; perhaps you missed a comma?\n",
      "C:\\Users\\logonrmlocal\\AppData\\Local\\Temp\\ipykernel_8156\\2654907945.py:2: SyntaxWarning: 'int' object is not callable; perhaps you missed a comma?\n",
      "  x.extend([7,8(2,3)])\n"
     ]
    },
    {
     "ename": "TypeError",
     "evalue": "'int' object is not callable",
     "output_type": "error",
     "traceback": [
      "\u001b[1;31m---------------------------------------------------------------------------\u001b[0m",
      "\u001b[1;31mTypeError\u001b[0m                                 Traceback (most recent call last)",
      "Cell \u001b[1;32mIn[62], line 2\u001b[0m\n\u001b[0;32m      1\u001b[0m x \u001b[39m=\u001b[39m [\u001b[39m4\u001b[39m,\u001b[39mNone\u001b[39;00m,\u001b[39m'\u001b[39m\u001b[39mfoo\u001b[39m\u001b[39m'\u001b[39m]\n\u001b[1;32m----> 2\u001b[0m x\u001b[39m.\u001b[39mextend([\u001b[39m7\u001b[39m,\u001b[39m8\u001b[39;49m(\u001b[39m2\u001b[39;49m,\u001b[39m3\u001b[39;49m)])\n\u001b[0;32m      3\u001b[0m x\n",
      "\u001b[1;31mTypeError\u001b[0m: 'int' object is not callable"
     ]
    }
   ],
   "source": []
  }
 ],
 "metadata": {
  "kernelspec": {
   "display_name": "Python 3",
   "language": "python",
   "name": "python3"
  },
  "language_info": {
   "codemirror_mode": {
    "name": "ipython",
    "version": 3
   },
   "file_extension": ".py",
   "mimetype": "text/x-python",
   "name": "python",
   "nbconvert_exporter": "python",
   "pygments_lexer": "ipython3",
   "version": "3.11.4"
  },
  "orig_nbformat": 4
 },
 "nbformat": 4,
 "nbformat_minor": 2
}
