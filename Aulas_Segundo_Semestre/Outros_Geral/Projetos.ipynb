{
 "cells": [
  {
   "attachments": {},
   "cell_type": "markdown",
   "metadata": {},
   "source": [
    "Identificador de letra no nome"
   ]
  },
  {
   "cell_type": "code",
   "execution_count": 14,
   "metadata": {},
   "outputs": [
    {
     "ename": "TypeError",
     "evalue": "string indices must be integers, not 'tuple'",
     "output_type": "error",
     "traceback": [
      "\u001b[1;31m---------------------------------------------------------------------------\u001b[0m",
      "\u001b[1;31mTypeError\u001b[0m                                 Traceback (most recent call last)",
      "Cell \u001b[1;32mIn[14], line 10\u001b[0m\n\u001b[0;32m      6\u001b[0m         \u001b[39melse\u001b[39;00m:\n\u001b[0;32m      7\u001b[0m             \u001b[39mpass\u001b[39;00m\n\u001b[1;32m---> 10\u001b[0m name()\n",
      "Cell \u001b[1;32mIn[14], line 4\u001b[0m, in \u001b[0;36mname\u001b[1;34m()\u001b[0m\n\u001b[0;32m      2\u001b[0m nome \u001b[39m=\u001b[39m \u001b[39mstr\u001b[39m(\u001b[39minput\u001b[39m(\u001b[39m'\u001b[39m\u001b[39mDigite o seu nome: \u001b[39m\u001b[39m'\u001b[39m))\n\u001b[0;32m      3\u001b[0m \u001b[39mfor\u001b[39;00m i \u001b[39min\u001b[39;00m \u001b[39menumerate\u001b[39m(nome):\n\u001b[1;32m----> 4\u001b[0m     \u001b[39mif\u001b[39;00m (\u001b[39m'\u001b[39m\u001b[39ma\u001b[39m\u001b[39m'\u001b[39m) \u001b[39min\u001b[39;00m nome[i]:\n\u001b[0;32m      5\u001b[0m         \u001b[39mprint\u001b[39m(\u001b[39m'\u001b[39m\u001b[39ma\u001b[39m\u001b[39m'\u001b[39m)\n\u001b[0;32m      6\u001b[0m     \u001b[39melse\u001b[39;00m:\n",
      "\u001b[1;31mTypeError\u001b[0m: string indices must be integers, not 'tuple'"
     ]
    }
   ],
   "source": [
    "def name(nome):\n",
    "    if \n",
    "\n",
    "\n",
    "name()\n"
   ]
  },
  {
   "cell_type": "code",
   "execution_count": 15,
   "metadata": {},
   "outputs": [
    {
     "name": "stdout",
     "output_type": "stream",
     "text": [
      "O nome 'iago' possui 1 letra(s) 'a'.\n"
     ]
    }
   ],
   "source": [
    "def contar_letras_a(nome):\n",
    "    # Verifica se o nome contém apenas letras e espaços\n",
    "    if all(char.isalpha() or char.isspace() for char in nome):\n",
    "        # Conta o número de ocorrências da letra 'a'\n",
    "        quantidade_a = nome.lower().count('a')\n",
    "        print(f\"O nome '{nome}' possui {quantidade_a} letra(s) 'a'.\")\n",
    "    else:\n",
    "        print(\"O nome deve conter apenas letras e espaços.\")\n",
    "\n",
    "# Exemplo de uso\n",
    "nome_usuario = input(\"Digite um nome: \")\n",
    "contar_letras_a(nome_usuario)"
   ]
  }
 ],
 "metadata": {
  "kernelspec": {
   "display_name": "Python 3",
   "language": "python",
   "name": "python3"
  },
  "language_info": {
   "codemirror_mode": {
    "name": "ipython",
    "version": 3
   },
   "file_extension": ".py",
   "mimetype": "text/x-python",
   "name": "python",
   "nbconvert_exporter": "python",
   "pygments_lexer": "ipython3",
   "version": "3.11.4"
  },
  "orig_nbformat": 4
 },
 "nbformat": 4,
 "nbformat_minor": 2
}
