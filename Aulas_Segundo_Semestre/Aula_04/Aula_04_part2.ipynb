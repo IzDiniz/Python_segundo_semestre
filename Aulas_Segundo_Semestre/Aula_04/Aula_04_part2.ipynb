{
 "cells": [
  {
   "cell_type": "code",
   "execution_count": 98,
   "metadata": {},
   "outputs": [],
   "source": [
    "import pandas as pd"
   ]
  },
  {
   "cell_type": "code",
   "execution_count": 99,
   "metadata": {},
   "outputs": [
    {
     "name": "stdout",
     "output_type": "stream",
     "text": [
      "90\n",
      "85\n"
     ]
    }
   ],
   "source": [
    "# Criando um Dicionário em Python\n",
    "notas = {'João':85, 'Maria':90, 'Pedro':88}         #Criando Dicionario\n",
    "print(notas['Maria'])\n",
    "print(notas['João'])"
   ]
  },
  {
   "cell_type": "code",
   "execution_count": 100,
   "metadata": {},
   "outputs": [
    {
     "data": {
      "text/plain": [
       "{'João': {'Matemática': 90, 'Português': 85, 'Ciências': 88},\n",
       " 'Maria': {'Matemática': 95, 'Português': 92, 'Ciências': 89},\n",
       " 'Pedro': {'Matemática': 80, 'Português': 75, 'Ciências': 82}}"
      ]
     },
     "execution_count": 100,
     "metadata": {},
     "output_type": "execute_result"
    }
   ],
   "source": [
    "notas_alunos = {\n",
    "    'João': {'Matemática':90, 'Português':85, 'Ciências':88},\n",
    "    'Maria': {'Matemática':95, 'Português':92, 'Ciências':89},      #Criando um dicionário para armazenar informações sobre os alunos \n",
    "    'Pedro': {'Matemática':80, 'Português':75, 'Ciências':82},\n",
    "}\n",
    "notas_alunos"
   ]
  },
  {
   "cell_type": "code",
   "execution_count": 101,
   "metadata": {},
   "outputs": [
    {
     "name": "stdout",
     "output_type": "stream",
     "text": [
      "Nota da Maria é: {'Matemática': 95, 'Português': 92, 'Ciências': 89}\n",
      "\n",
      "A nota de Maria em matemática é: 95\n"
     ]
    }
   ],
   "source": [
    "# Acessando notas de um aluno específico\n",
    "nota_maria = notas_alunos['Maria']\n",
    "print('Nota da Maria é:', nota_maria) #Trazendo notas em geral da Maria\n",
    "\n",
    "print()\n",
    "\n",
    "nota_maria_matematica = notas_alunos['Maria']['Matemática']\n",
    "print('A nota de Maria em matemática é:', nota_maria_matematica) #Trazendo uma informação específicas dos alunos\n",
    "\n"
   ]
  },
  {
   "cell_type": "code",
   "execution_count": 102,
   "metadata": {},
   "outputs": [
    {
     "data": {
      "text/html": [
       "<div>\n",
       "<style scoped>\n",
       "    .dataframe tbody tr th:only-of-type {\n",
       "        vertical-align: middle;\n",
       "    }\n",
       "\n",
       "    .dataframe tbody tr th {\n",
       "        vertical-align: top;\n",
       "    }\n",
       "\n",
       "    .dataframe thead th {\n",
       "        text-align: right;\n",
       "    }\n",
       "</style>\n",
       "<table border=\"1\" class=\"dataframe\">\n",
       "  <thead>\n",
       "    <tr style=\"text-align: right;\">\n",
       "      <th></th>\n",
       "      <th>João</th>\n",
       "      <th>Maria</th>\n",
       "      <th>Pedro</th>\n",
       "    </tr>\n",
       "  </thead>\n",
       "  <tbody>\n",
       "    <tr>\n",
       "      <th>Matemática</th>\n",
       "      <td>90</td>\n",
       "      <td>95</td>\n",
       "      <td>80</td>\n",
       "    </tr>\n",
       "    <tr>\n",
       "      <th>Português</th>\n",
       "      <td>85</td>\n",
       "      <td>92</td>\n",
       "      <td>75</td>\n",
       "    </tr>\n",
       "    <tr>\n",
       "      <th>Ciências</th>\n",
       "      <td>88</td>\n",
       "      <td>89</td>\n",
       "      <td>82</td>\n",
       "    </tr>\n",
       "  </tbody>\n",
       "</table>\n",
       "</div>"
      ],
      "text/plain": [
       "            João  Maria  Pedro\n",
       "Matemática    90     95     80\n",
       "Português     85     92     75\n",
       "Ciências      88     89     82"
      ]
     },
     "execution_count": 102,
     "metadata": {},
     "output_type": "execute_result"
    }
   ],
   "source": [
    "df = pd.DataFrame(notas_alunos)\n",
    "df"
   ]
  },
  {
   "cell_type": "code",
   "execution_count": 103,
   "metadata": {},
   "outputs": [
    {
     "data": {
      "text/plain": [
       "{'João': {'Matemática': 90, 'Português': 85, 'Ciências': 88},\n",
       " 'Maria': {'Matemática': 95, 'Português': 92, 'Ciências': 89},\n",
       " 'Pedro': {'Matemática': 80, 'Português': 75, 'Ciências': 82},\n",
       " 'Ana': {'Matemática': 88, 'Português': 91, 'Ciências': 85}}"
      ]
     },
     "execution_count": 103,
     "metadata": {},
     "output_type": "execute_result"
    }
   ],
   "source": [
    "# Adicionando um novo aluno no dicionário\n",
    "notas_alunos['Ana'] = {'Matemática':88, 'Português':91, 'Ciências':85}\n",
    "notas_alunos"
   ]
  },
  {
   "cell_type": "code",
   "execution_count": 104,
   "metadata": {},
   "outputs": [
    {
     "data": {
      "text/html": [
       "<div>\n",
       "<style scoped>\n",
       "    .dataframe tbody tr th:only-of-type {\n",
       "        vertical-align: middle;\n",
       "    }\n",
       "\n",
       "    .dataframe tbody tr th {\n",
       "        vertical-align: top;\n",
       "    }\n",
       "\n",
       "    .dataframe thead th {\n",
       "        text-align: right;\n",
       "    }\n",
       "</style>\n",
       "<table border=\"1\" class=\"dataframe\">\n",
       "  <thead>\n",
       "    <tr style=\"text-align: right;\">\n",
       "      <th></th>\n",
       "      <th>João</th>\n",
       "      <th>Maria</th>\n",
       "      <th>Pedro</th>\n",
       "      <th>Ana</th>\n",
       "    </tr>\n",
       "  </thead>\n",
       "  <tbody>\n",
       "    <tr>\n",
       "      <th>Matemática</th>\n",
       "      <td>90</td>\n",
       "      <td>95</td>\n",
       "      <td>80</td>\n",
       "      <td>88</td>\n",
       "    </tr>\n",
       "    <tr>\n",
       "      <th>Português</th>\n",
       "      <td>85</td>\n",
       "      <td>92</td>\n",
       "      <td>75</td>\n",
       "      <td>91</td>\n",
       "    </tr>\n",
       "    <tr>\n",
       "      <th>Ciências</th>\n",
       "      <td>88</td>\n",
       "      <td>89</td>\n",
       "      <td>82</td>\n",
       "      <td>85</td>\n",
       "    </tr>\n",
       "  </tbody>\n",
       "</table>\n",
       "</div>"
      ],
      "text/plain": [
       "            João  Maria  Pedro  Ana\n",
       "Matemática    90     95     80   88\n",
       "Português     85     92     75   91\n",
       "Ciências      88     89     82   85"
      ]
     },
     "execution_count": 104,
     "metadata": {},
     "output_type": "execute_result"
    }
   ],
   "source": [
    "# DataFrame com Ana incluída\n",
    "df = pd.DataFrame(notas_alunos)\n",
    "df"
   ]
  },
  {
   "cell_type": "code",
   "execution_count": 105,
   "metadata": {},
   "outputs": [
    {
     "data": {
      "text/html": [
       "<div>\n",
       "<style scoped>\n",
       "    .dataframe tbody tr th:only-of-type {\n",
       "        vertical-align: middle;\n",
       "    }\n",
       "\n",
       "    .dataframe tbody tr th {\n",
       "        vertical-align: top;\n",
       "    }\n",
       "\n",
       "    .dataframe thead th {\n",
       "        text-align: right;\n",
       "    }\n",
       "</style>\n",
       "<table border=\"1\" class=\"dataframe\">\n",
       "  <thead>\n",
       "    <tr style=\"text-align: right;\">\n",
       "      <th></th>\n",
       "      <th>João</th>\n",
       "      <th>Maria</th>\n",
       "    </tr>\n",
       "  </thead>\n",
       "  <tbody>\n",
       "    <tr>\n",
       "      <th>Matemática</th>\n",
       "      <td>90</td>\n",
       "      <td>95</td>\n",
       "    </tr>\n",
       "    <tr>\n",
       "      <th>Português</th>\n",
       "      <td>85</td>\n",
       "      <td>92</td>\n",
       "    </tr>\n",
       "    <tr>\n",
       "      <th>Ciências</th>\n",
       "      <td>88</td>\n",
       "      <td>89</td>\n",
       "    </tr>\n",
       "  </tbody>\n",
       "</table>\n",
       "</div>"
      ],
      "text/plain": [
       "            João  Maria\n",
       "Matemática    90     95\n",
       "Português     85     92\n",
       "Ciências      88     89"
      ]
     },
     "execution_count": 105,
     "metadata": {},
     "output_type": "execute_result"
    }
   ],
   "source": [
    "# Trazendo a informação de apenas 2 alunos do data frame\n",
    "dados_dois_alunos = df.loc[:, ['João', 'Maria']]\n",
    "dados_dois_alunos"
   ]
  },
  {
   "cell_type": "code",
   "execution_count": 106,
   "metadata": {},
   "outputs": [
    {
     "data": {
      "text/plain": [
       "Matemática    90\n",
       "Português     85\n",
       "Ciências      88\n",
       "Name: João, dtype: int64"
      ]
     },
     "execution_count": 106,
     "metadata": {},
     "output_type": "execute_result"
    }
   ],
   "source": [
    "# Trazendo só a nota do João em Dataframe\n",
    "df ['João']"
   ]
  },
  {
   "cell_type": "code",
   "execution_count": 107,
   "metadata": {},
   "outputs": [],
   "source": [
    "# Criando uma lista de data no formato desejado\n",
    "datas = ['01-01-2024', '01-02-2024', '01-03-2024']"
   ]
  },
  {
   "cell_type": "code",
   "execution_count": 108,
   "metadata": {},
   "outputs": [],
   "source": [
    "# Convertendo as data para o formato datetime\n",
    "datas_formatadas = pd.to_datetime(datas,format='%d-%m-%Y')"
   ]
  },
  {
   "cell_type": "code",
   "execution_count": 109,
   "metadata": {},
   "outputs": [
    {
     "data": {
      "text/html": [
       "<div>\n",
       "<style scoped>\n",
       "    .dataframe tbody tr th:only-of-type {\n",
       "        vertical-align: middle;\n",
       "    }\n",
       "\n",
       "    .dataframe tbody tr th {\n",
       "        vertical-align: top;\n",
       "    }\n",
       "\n",
       "    .dataframe thead th {\n",
       "        text-align: right;\n",
       "    }\n",
       "</style>\n",
       "<table border=\"1\" class=\"dataframe\">\n",
       "  <thead>\n",
       "    <tr style=\"text-align: right;\">\n",
       "      <th></th>\n",
       "      <th>João</th>\n",
       "      <th>Maria</th>\n",
       "      <th>Pedro</th>\n",
       "      <th>Ana</th>\n",
       "      <th>Data</th>\n",
       "    </tr>\n",
       "  </thead>\n",
       "  <tbody>\n",
       "    <tr>\n",
       "      <th>Matemática</th>\n",
       "      <td>90</td>\n",
       "      <td>95</td>\n",
       "      <td>80</td>\n",
       "      <td>88</td>\n",
       "      <td>2024-01-01</td>\n",
       "    </tr>\n",
       "    <tr>\n",
       "      <th>Português</th>\n",
       "      <td>85</td>\n",
       "      <td>92</td>\n",
       "      <td>75</td>\n",
       "      <td>91</td>\n",
       "      <td>2024-02-01</td>\n",
       "    </tr>\n",
       "    <tr>\n",
       "      <th>Ciências</th>\n",
       "      <td>88</td>\n",
       "      <td>89</td>\n",
       "      <td>82</td>\n",
       "      <td>85</td>\n",
       "      <td>2024-03-01</td>\n",
       "    </tr>\n",
       "  </tbody>\n",
       "</table>\n",
       "</div>"
      ],
      "text/plain": [
       "            João  Maria  Pedro  Ana       Data\n",
       "Matemática    90     95     80   88 2024-01-01\n",
       "Português     85     92     75   91 2024-02-01\n",
       "Ciências      88     89     82   85 2024-03-01"
      ]
     },
     "execution_count": 109,
     "metadata": {},
     "output_type": "execute_result"
    }
   ],
   "source": [
    "# Inserindo a coluna de datas no Data Frame\n",
    "df['Data'] = datas_formatadas\n",
    "df"
   ]
  },
  {
   "cell_type": "code",
   "execution_count": 110,
   "metadata": {},
   "outputs": [
    {
     "data": {
      "text/html": [
       "<div>\n",
       "<style scoped>\n",
       "    .dataframe tbody tr th:only-of-type {\n",
       "        vertical-align: middle;\n",
       "    }\n",
       "\n",
       "    .dataframe tbody tr th {\n",
       "        vertical-align: top;\n",
       "    }\n",
       "\n",
       "    .dataframe thead th {\n",
       "        text-align: right;\n",
       "    }\n",
       "</style>\n",
       "<table border=\"1\" class=\"dataframe\">\n",
       "  <thead>\n",
       "    <tr style=\"text-align: right;\">\n",
       "      <th></th>\n",
       "      <th>João</th>\n",
       "      <th>Maria</th>\n",
       "      <th>Pedro</th>\n",
       "      <th>Ana</th>\n",
       "      <th>Data</th>\n",
       "      <th>Ano</th>\n",
       "      <th>Mês</th>\n",
       "    </tr>\n",
       "  </thead>\n",
       "  <tbody>\n",
       "    <tr>\n",
       "      <th>Matemática</th>\n",
       "      <td>90</td>\n",
       "      <td>95</td>\n",
       "      <td>80</td>\n",
       "      <td>88</td>\n",
       "      <td>2024-01-01</td>\n",
       "      <td>2024</td>\n",
       "      <td>1</td>\n",
       "    </tr>\n",
       "    <tr>\n",
       "      <th>Português</th>\n",
       "      <td>85</td>\n",
       "      <td>92</td>\n",
       "      <td>75</td>\n",
       "      <td>91</td>\n",
       "      <td>2024-02-01</td>\n",
       "      <td>2024</td>\n",
       "      <td>2</td>\n",
       "    </tr>\n",
       "    <tr>\n",
       "      <th>Ciências</th>\n",
       "      <td>88</td>\n",
       "      <td>89</td>\n",
       "      <td>82</td>\n",
       "      <td>85</td>\n",
       "      <td>2024-03-01</td>\n",
       "      <td>2024</td>\n",
       "      <td>3</td>\n",
       "    </tr>\n",
       "  </tbody>\n",
       "</table>\n",
       "</div>"
      ],
      "text/plain": [
       "            João  Maria  Pedro  Ana       Data   Ano  Mês\n",
       "Matemática    90     95     80   88 2024-01-01  2024    1\n",
       "Português     85     92     75   91 2024-02-01  2024    2\n",
       "Ciências      88     89     82   85 2024-03-01  2024    3"
      ]
     },
     "execution_count": 110,
     "metadata": {},
     "output_type": "execute_result"
    }
   ],
   "source": [
    "df['Data']= pd.to_datetime(df['Data'], format='%d-%m-%Y')\n",
    "df['Ano']= df['Data'].dt.year\n",
    "df['Mês']= df['Data'].dt.month\n",
    "\n",
    "df"
   ]
  },
  {
   "cell_type": "code",
   "execution_count": 111,
   "metadata": {},
   "outputs": [],
   "source": [
    "# Salvando arquvios em csv ou excell\n",
    "# 01\n",
    "\n",
    "df.to_csv('Exemplo_DataFrame.csv')"
   ]
  },
  {
   "cell_type": "code",
   "execution_count": 112,
   "metadata": {},
   "outputs": [
    {
     "ename": "SyntaxError",
     "evalue": "invalid syntax (2437403424.py, line 2)",
     "output_type": "error",
     "traceback": [
      "\u001b[1;36m  Cell \u001b[1;32mIn[112], line 2\u001b[1;36m\u001b[0m\n\u001b[1;33m    pip install openpyxl\u001b[0m\n\u001b[1;37m        ^\u001b[0m\n\u001b[1;31mSyntaxError\u001b[0m\u001b[1;31m:\u001b[0m invalid syntax\n"
     ]
    }
   ],
   "source": [
    "# Biblioteca para baixar em excell\n",
    "pip install openpyxl"
   ]
  },
  {
   "cell_type": "code",
   "execution_count": null,
   "metadata": {},
   "outputs": [],
   "source": [
    "# 02\n",
    "df.to_excel('Exemplo_DataFrame_Excell.xlsx')"
   ]
  },
  {
   "cell_type": "code",
   "execution_count": null,
   "metadata": {},
   "outputs": [
    {
     "data": {
      "text/plain": [
       "{'produtos': {'Celular', 'Notebook', 'Tablet', 'celular'},\n",
       " 'Mês': {'01-01-2023', '01-02-2023', '01-03-2023'},\n",
       " 'Vendas': {80, 90, 100, 120, 130, 150, 180, 200}}"
      ]
     },
     "execution_count": 63,
     "metadata": {},
     "output_type": "execute_result"
    }
   ],
   "source": [
    "produtos01 = {\n",
    "    'produtos': {'Celular', 'Celular', 'celular', 'Tablet', 'Tablet', 'Tablet', 'Notebook', 'Notebook', 'Notebook'},\n",
    "\n",
    "    'Mês': {'01-01-2023', '01-02-2023', '01-03-2023', '01-01-2023', '01-02-2023', '01-03-2023', '01-01-2023', '01-02-2023', '01-03-2023'},\n",
    "\n",
    "    'Vendas': {150, 180, 200, 100, 120, 130, 80, 90, 100},\n",
    "}\n",
    "produtos01"
   ]
  },
  {
   "cell_type": "code",
   "execution_count": 136,
   "metadata": {},
   "outputs": [
    {
     "data": {
      "text/html": [
       "<div>\n",
       "<style scoped>\n",
       "    .dataframe tbody tr th:only-of-type {\n",
       "        vertical-align: middle;\n",
       "    }\n",
       "\n",
       "    .dataframe tbody tr th {\n",
       "        vertical-align: top;\n",
       "    }\n",
       "\n",
       "    .dataframe thead th {\n",
       "        text-align: right;\n",
       "    }\n",
       "</style>\n",
       "<table border=\"1\" class=\"dataframe\">\n",
       "  <thead>\n",
       "    <tr style=\"text-align: right;\">\n",
       "      <th></th>\n",
       "      <th>Produtos</th>\n",
       "      <th>Mês</th>\n",
       "      <th>Vendas</th>\n",
       "    </tr>\n",
       "  </thead>\n",
       "  <tbody>\n",
       "    <tr>\n",
       "      <th>0</th>\n",
       "      <td>Celular</td>\n",
       "      <td>01-01-2023</td>\n",
       "      <td>150</td>\n",
       "    </tr>\n",
       "    <tr>\n",
       "      <th>1</th>\n",
       "      <td>Celular</td>\n",
       "      <td>01-02-2023</td>\n",
       "      <td>180</td>\n",
       "    </tr>\n",
       "    <tr>\n",
       "      <th>2</th>\n",
       "      <td>Celular</td>\n",
       "      <td>01-03-2023</td>\n",
       "      <td>200</td>\n",
       "    </tr>\n",
       "    <tr>\n",
       "      <th>3</th>\n",
       "      <td>Tablet</td>\n",
       "      <td>01-01-2023</td>\n",
       "      <td>100</td>\n",
       "    </tr>\n",
       "    <tr>\n",
       "      <th>4</th>\n",
       "      <td>Tablet</td>\n",
       "      <td>01-02-2023</td>\n",
       "      <td>120</td>\n",
       "    </tr>\n",
       "    <tr>\n",
       "      <th>5</th>\n",
       "      <td>Tablet</td>\n",
       "      <td>01-03-2023</td>\n",
       "      <td>130</td>\n",
       "    </tr>\n",
       "    <tr>\n",
       "      <th>6</th>\n",
       "      <td>Notebook</td>\n",
       "      <td>01-01-2023</td>\n",
       "      <td>80</td>\n",
       "    </tr>\n",
       "    <tr>\n",
       "      <th>7</th>\n",
       "      <td>Notebook</td>\n",
       "      <td>01-02-2023</td>\n",
       "      <td>90</td>\n",
       "    </tr>\n",
       "    <tr>\n",
       "      <th>8</th>\n",
       "      <td>Notebook</td>\n",
       "      <td>01-03-2023</td>\n",
       "      <td>100</td>\n",
       "    </tr>\n",
       "  </tbody>\n",
       "</table>\n",
       "</div>"
      ],
      "text/plain": [
       "   Produtos         Mês  Vendas\n",
       "0   Celular  01-01-2023     150\n",
       "1   Celular  01-02-2023     180\n",
       "2   Celular  01-03-2023     200\n",
       "3    Tablet  01-01-2023     100\n",
       "4    Tablet  01-02-2023     120\n",
       "5    Tablet  01-03-2023     130\n",
       "6  Notebook  01-01-2023      80\n",
       "7  Notebook  01-02-2023      90\n",
       "8  Notebook  01-03-2023     100"
      ]
     },
     "execution_count": 136,
     "metadata": {},
     "output_type": "execute_result"
    }
   ],
   "source": [
    "produtos = {\n",
    "    'Produtos': ['Celular', 'Celular', 'Celular', 'Tablet', 'Tablet', 'Tablet', 'Notebook', 'Notebook', 'Notebook'],\n",
    "\n",
    "    'Mês': ['01-01-2023', '01-02-2023', '01-03-2023', '01-01-2023', '01-02-2023', '01-03-2023', '01-01-2023', '01-02-2023', '01-03-2023'],\n",
    "\n",
    "    'Vendas': [150, 180, 200, 100, 120, 130, 80, 90, 100],\n",
    "}\n",
    "produtos\n",
    "df = pd.DataFrame(produtos)\n",
    "df"
   ]
  },
  {
   "cell_type": "code",
   "execution_count": 118,
   "metadata": {},
   "outputs": [
    {
     "data": {
      "text/plain": [
       "Produtos       celular\n",
       "Mês         01-03-2023\n",
       "Vendas             200\n",
       "dtype: object"
      ]
     },
     "execution_count": 118,
     "metadata": {},
     "output_type": "execute_result"
    }
   ],
   "source": [
    "# Descobrindo qual foi o mais vendido, forma 1\n",
    "df.max()"
   ]
  },
  {
   "cell_type": "code",
   "execution_count": 137,
   "metadata": {},
   "outputs": [
    {
     "data": {
      "text/plain": [
       "Mês\n",
       "1    150\n",
       "2    180\n",
       "3    200\n",
       "1    100\n",
       "2    120\n",
       "3    130\n",
       "1     80\n",
       "2     90\n",
       "3    100\n",
       "dtype: int64"
      ]
     },
     "execution_count": 137,
     "metadata": {},
     "output_type": "execute_result"
    }
   ],
   "source": [
    "# Descobrindo qual foi os mais vendidos de uma só categoria - 01\n",
    "\n",
    "df['Mês'] = pd.to_datetime(df['Mês'], format='%d-%m-%Y')\n",
    "df['Ano'] = df['Mês'].dt.year\n",
    "df['Mês'] = df['Mês'].dt.month\n",
    "\n",
    "\n",
    "# Convertendo um DataFrame para um Pandas Series, indexado pelos meses\n",
    "vendas_series= pd.Series(df['Vendas'].values, index=df['Mês'])\n",
    "vendas_series"
   ]
  },
  {
   "cell_type": "code",
   "execution_count": 139,
   "metadata": {},
   "outputs": [
    {
     "data": {
      "text/plain": [
       "Produtos\n",
       "Celular     530\n",
       "Notebook    270\n",
       "Tablet      350\n",
       "Name: Vendas, dtype: int64"
      ]
     },
     "execution_count": 139,
     "metadata": {},
     "output_type": "execute_result"
    }
   ],
   "source": [
    "# - 02, Groupby serve para agrupar os valores dos produtos e depois de agrupado ele exige uma função seguinte, nesse caso foi a da soma.\n",
    "produto_mais_vendido = df.groupby('Produtos')['Vendas'].sum()\n",
    "produto_mais_vendido"
   ]
  },
  {
   "cell_type": "code",
   "execution_count": 144,
   "metadata": {},
   "outputs": [
    {
     "data": {
      "text/plain": [
       "Produtos\n",
       "Celular     150\n",
       "Notebook     80\n",
       "Tablet      100\n",
       "Name: Vendas, dtype: int64"
      ]
     },
     "execution_count": 144,
     "metadata": {},
     "output_type": "execute_result"
    }
   ],
   "source": [
    "# 03 - Minimo\n",
    "produto_menos_vendido = df.groupby('Produtos')['Vendas'].min()\n",
    "produto_menos_vendido"
   ]
  },
  {
   "cell_type": "code",
   "execution_count": 146,
   "metadata": {},
   "outputs": [
    {
     "data": {
      "text/plain": [
       "Produtos\n",
       "Celular     176.666667\n",
       "Notebook     90.000000\n",
       "Tablet      116.666667\n",
       "Name: Vendas, dtype: float64"
      ]
     },
     "execution_count": 146,
     "metadata": {},
     "output_type": "execute_result"
    }
   ],
   "source": [
    "# 03 - mediana\n",
    "produto_media_vendido = df.groupby('Produtos')['Vendas'].mean()\n",
    "produto_media_vendido"
   ]
  },
  {
   "cell_type": "code",
   "execution_count": 148,
   "metadata": {},
   "outputs": [
    {
     "name": "stdout",
     "output_type": "stream",
     "text": [
      "Produtos\n",
      "Celular     180.0\n",
      "Notebook     90.0\n",
      "Tablet      120.0\n",
      "Name: Vendas, dtype: float64\n"
     ]
    }
   ],
   "source": [
    "# 03 - media\n",
    "produto_mediana_vendido = df.groupby('Produtos')['Vendas'].median()\n",
    "produto_mediana_vendido"
   ]
  },
  {
   "cell_type": "code",
   "execution_count": 155,
   "metadata": {},
   "outputs": [
    {
     "name": "stdout",
     "output_type": "stream",
     "text": [
      "Collecting matplotlib\n",
      "  Downloading matplotlib-3.8.3-cp311-cp311-win_amd64.whl (7.6 MB)\n",
      "                                              0.0/7.6 MB ? eta -:--:--\n",
      "     -                                        0.2/7.6 MB 6.9 MB/s eta 0:00:02\n",
      "     --                                       0.5/7.6 MB 4.9 MB/s eta 0:00:02\n",
      "     ---                                      0.7/7.6 MB 5.5 MB/s eta 0:00:02\n",
      "     ----                                     1.0/7.6 MB 5.5 MB/s eta 0:00:02\n",
      "     ------                                   1.2/7.6 MB 5.5 MB/s eta 0:00:02\n",
      "     -------                                  1.5/7.6 MB 5.6 MB/s eta 0:00:02\n",
      "     --------                                 1.6/7.6 MB 5.4 MB/s eta 0:00:02\n",
      "     --------                                 1.6/7.6 MB 4.5 MB/s eta 0:00:02\n",
      "     --------                                 1.7/7.6 MB 4.2 MB/s eta 0:00:02\n",
      "     ---------                                1.9/7.6 MB 4.2 MB/s eta 0:00:02\n",
      "     -----------                              2.1/7.6 MB 4.2 MB/s eta 0:00:02\n",
      "     ------------                             2.3/7.6 MB 4.2 MB/s eta 0:00:02\n",
      "     -------------                            2.6/7.6 MB 4.4 MB/s eta 0:00:02\n",
      "     --------------                           2.8/7.6 MB 4.3 MB/s eta 0:00:02\n",
      "     ---------------                          3.0/7.6 MB 4.3 MB/s eta 0:00:02\n",
      "     ----------------                         3.1/7.6 MB 4.3 MB/s eta 0:00:02\n",
      "     -----------------                        3.3/7.6 MB 4.2 MB/s eta 0:00:02\n",
      "     ------------------                       3.5/7.6 MB 4.2 MB/s eta 0:00:01\n",
      "     ------------------                       3.5/7.6 MB 4.0 MB/s eta 0:00:02\n",
      "     ------------------                       3.5/7.6 MB 3.8 MB/s eta 0:00:02\n",
      "     -------------------                      3.7/7.6 MB 3.8 MB/s eta 0:00:02\n",
      "     --------------------                     3.9/7.6 MB 3.8 MB/s eta 0:00:01\n",
      "     --------------------                     4.0/7.6 MB 3.8 MB/s eta 0:00:01\n",
      "     ---------------------                    4.2/7.6 MB 3.7 MB/s eta 0:00:01\n",
      "     ----------------------                   4.3/7.6 MB 3.7 MB/s eta 0:00:01\n",
      "     -----------------------                  4.4/7.6 MB 3.7 MB/s eta 0:00:01\n",
      "     -----------------------                  4.5/7.6 MB 3.6 MB/s eta 0:00:01\n",
      "     -----------------------                  4.6/7.6 MB 3.5 MB/s eta 0:00:01\n",
      "     ------------------------                 4.7/7.6 MB 3.5 MB/s eta 0:00:01\n",
      "     ------------------------                 4.8/7.6 MB 3.4 MB/s eta 0:00:01\n",
      "     -------------------------                4.9/7.6 MB 3.4 MB/s eta 0:00:01\n",
      "     --------------------------               5.0/7.6 MB 3.4 MB/s eta 0:00:01\n",
      "     ---------------------------              5.2/7.6 MB 3.4 MB/s eta 0:00:01\n",
      "     ---------------------------              5.3/7.6 MB 3.4 MB/s eta 0:00:01\n",
      "     ----------------------------             5.5/7.6 MB 3.4 MB/s eta 0:00:01\n",
      "     -----------------------------            5.7/7.6 MB 3.4 MB/s eta 0:00:01\n",
      "     ------------------------------           5.9/7.6 MB 3.4 MB/s eta 0:00:01\n",
      "     -------------------------------          6.1/7.6 MB 3.4 MB/s eta 0:00:01\n",
      "     --------------------------------         6.3/7.6 MB 3.5 MB/s eta 0:00:01\n",
      "     ----------------------------------       6.5/7.6 MB 3.5 MB/s eta 0:00:01\n",
      "     ----------------------------------       6.6/7.6 MB 3.5 MB/s eta 0:00:01\n",
      "     ----------------------------------       6.6/7.6 MB 3.4 MB/s eta 0:00:01\n",
      "     ----------------------------------       6.7/7.6 MB 3.3 MB/s eta 0:00:01\n",
      "     -----------------------------------      6.9/7.6 MB 3.4 MB/s eta 0:00:01\n",
      "     ------------------------------------     7.1/7.6 MB 3.4 MB/s eta 0:00:01\n",
      "     --------------------------------------   7.3/7.6 MB 3.4 MB/s eta 0:00:01\n",
      "     ---------------------------------------  7.5/7.6 MB 3.4 MB/s eta 0:00:01\n",
      "     ---------------------------------------  7.6/7.6 MB 3.4 MB/s eta 0:00:01\n",
      "     ---------------------------------------- 7.6/7.6 MB 3.4 MB/s eta 0:00:00\n",
      "Collecting contourpy>=1.0.1 (from matplotlib)\n",
      "  Downloading contourpy-1.2.0-cp311-cp311-win_amd64.whl (187 kB)\n",
      "                                              0.0/187.6 kB ? eta -:--:--\n",
      "     -----------------------------          143.4/187.6 kB 4.3 MB/s eta 0:00:01\n",
      "     -------------------------------------- 187.6/187.6 kB 3.8 MB/s eta 0:00:00\n",
      "Collecting cycler>=0.10 (from matplotlib)\n",
      "  Downloading cycler-0.12.1-py3-none-any.whl (8.3 kB)\n",
      "Collecting fonttools>=4.22.0 (from matplotlib)\n",
      "  Downloading fonttools-4.49.0-cp311-cp311-win_amd64.whl (2.2 MB)\n",
      "                                              0.0/2.2 MB ? eta -:--:--\n",
      "     ---                                      0.2/2.2 MB 5.3 MB/s eta 0:00:01\n",
      "     ------                                   0.4/2.2 MB 3.8 MB/s eta 0:00:01\n",
      "     ----------                               0.6/2.2 MB 4.6 MB/s eta 0:00:01\n",
      "     --------------                           0.8/2.2 MB 4.6 MB/s eta 0:00:01\n",
      "     -------------------                      1.0/2.2 MB 4.4 MB/s eta 0:00:01\n",
      "     -----------------------                  1.3/2.2 MB 4.7 MB/s eta 0:00:01\n",
      "     --------------------------               1.5/2.2 MB 4.6 MB/s eta 0:00:01\n",
      "     ------------------------------           1.6/2.2 MB 4.5 MB/s eta 0:00:01\n",
      "     -------------------------------          1.7/2.2 MB 4.5 MB/s eta 0:00:01\n",
      "     -------------------------------          1.7/2.2 MB 4.5 MB/s eta 0:00:01\n",
      "     -------------------------------          1.7/2.2 MB 4.5 MB/s eta 0:00:01\n",
      "     -------------------------------          1.7/2.2 MB 4.5 MB/s eta 0:00:01\n",
      "     -------------------------------          1.7/2.2 MB 4.5 MB/s eta 0:00:01\n",
      "     -------------------------------          1.7/2.2 MB 4.5 MB/s eta 0:00:01\n",
      "     -------------------------------          1.7/2.2 MB 2.5 MB/s eta 0:00:01\n",
      "     ----------------------------------       1.9/2.2 MB 2.5 MB/s eta 0:00:01\n",
      "     ------------------------------------     2.0/2.2 MB 2.6 MB/s eta 0:00:01\n",
      "     ---------------------------------------  2.1/2.2 MB 2.6 MB/s eta 0:00:01\n",
      "     ---------------------------------------- 2.2/2.2 MB 2.5 MB/s eta 0:00:00\n",
      "Collecting kiwisolver>=1.3.1 (from matplotlib)\n",
      "  Downloading kiwisolver-1.4.5-cp311-cp311-win_amd64.whl (56 kB)\n",
      "                                              0.0/56.1 kB ? eta -:--:--\n",
      "     ---------------------------------------- 56.1/56.1 kB 3.1 MB/s eta 0:00:00\n",
      "Requirement already satisfied: numpy<2,>=1.21 in c:\\python311\\lib\\site-packages (from matplotlib) (1.26.4)\n",
      "Requirement already satisfied: packaging>=20.0 in c:\\python311\\lib\\site-packages (from matplotlib) (23.1)\n",
      "Collecting pillow>=8 (from matplotlib)\n",
      "  Downloading pillow-10.2.0-cp311-cp311-win_amd64.whl (2.6 MB)\n",
      "                                              0.0/2.6 MB ? eta -:--:--\n",
      "     -                                        0.1/2.6 MB 2.6 MB/s eta 0:00:01\n",
      "     ---                                      0.2/2.6 MB 2.9 MB/s eta 0:00:01\n",
      "     ------                                   0.4/2.6 MB 3.1 MB/s eta 0:00:01\n",
      "     --------                                 0.6/2.6 MB 3.2 MB/s eta 0:00:01\n",
      "     -----------                              0.7/2.6 MB 3.3 MB/s eta 0:00:01\n",
      "     --------------                           0.9/2.6 MB 3.4 MB/s eta 0:00:01\n",
      "     -----------------                        1.1/2.6 MB 3.6 MB/s eta 0:00:01\n",
      "     --------------------                     1.3/2.6 MB 3.7 MB/s eta 0:00:01\n",
      "     -----------------------                  1.6/2.6 MB 3.8 MB/s eta 0:00:01\n",
      "     ---------------------------              1.8/2.6 MB 4.0 MB/s eta 0:00:01\n",
      "     -----------------------------            2.0/2.6 MB 4.0 MB/s eta 0:00:01\n",
      "     -----------------------------            2.0/2.6 MB 4.0 MB/s eta 0:00:01\n",
      "     -----------------------------            2.0/2.6 MB 4.0 MB/s eta 0:00:01\n",
      "     -----------------------------            2.0/2.6 MB 4.0 MB/s eta 0:00:01\n",
      "     -----------------------------            2.0/2.6 MB 4.0 MB/s eta 0:00:01\n",
      "     -----------------------------            2.0/2.6 MB 4.0 MB/s eta 0:00:01\n",
      "     ------------------------------           2.0/2.6 MB 2.5 MB/s eta 0:00:01\n",
      "     --------------------------------         2.1/2.6 MB 2.6 MB/s eta 0:00:01\n",
      "     -----------------------------------      2.3/2.6 MB 2.6 MB/s eta 0:00:01\n",
      "     --------------------------------------   2.5/2.6 MB 2.7 MB/s eta 0:00:01\n",
      "     ---------------------------------------- 2.6/2.6 MB 2.7 MB/s eta 0:00:00\n",
      "Collecting pyparsing>=2.3.1 (from matplotlib)\n",
      "  Downloading pyparsing-3.1.1-py3-none-any.whl (103 kB)\n",
      "                                              0.0/103.1 kB ? eta -:--:--\n",
      "     -------------------------------------- 103.1/103.1 kB 6.2 MB/s eta 0:00:00\n",
      "Requirement already satisfied: python-dateutil>=2.7 in c:\\python311\\lib\\site-packages (from matplotlib) (2.8.2)\n",
      "Requirement already satisfied: six>=1.5 in c:\\python311\\lib\\site-packages (from python-dateutil>=2.7->matplotlib) (1.16.0)\n",
      "Installing collected packages: pyparsing, pillow, kiwisolver, fonttools, cycler, contourpy, matplotlib\n",
      "Successfully installed contourpy-1.2.0 cycler-0.12.1 fonttools-4.49.0 kiwisolver-1.4.5 matplotlib-3.8.3 pillow-10.2.0 pyparsing-3.1.1\n",
      "Note: you may need to restart the kernel to use updated packages.\n"
     ]
    },
    {
     "name": "stderr",
     "output_type": "stream",
     "text": [
      "\n",
      "[notice] A new release of pip is available: 23.1.2 -> 24.0\n",
      "[notice] To update, run: python.exe -m pip install --upgrade pip\n"
     ]
    }
   ],
   "source": [
    "pip install matplotlib"
   ]
  },
  {
   "cell_type": "code",
   "execution_count": 156,
   "metadata": {},
   "outputs": [],
   "source": [
    "import matplotlib_inline as plt"
   ]
  },
  {
   "cell_type": "code",
   "execution_count": 157,
   "metadata": {},
   "outputs": [
    {
     "data": {
      "text/html": [
       "<div>\n",
       "<style scoped>\n",
       "    .dataframe tbody tr th:only-of-type {\n",
       "        vertical-align: middle;\n",
       "    }\n",
       "\n",
       "    .dataframe tbody tr th {\n",
       "        vertical-align: top;\n",
       "    }\n",
       "\n",
       "    .dataframe thead th {\n",
       "        text-align: right;\n",
       "    }\n",
       "</style>\n",
       "<table border=\"1\" class=\"dataframe\">\n",
       "  <thead>\n",
       "    <tr style=\"text-align: right;\">\n",
       "      <th>Produtos</th>\n",
       "      <th>Celular</th>\n",
       "      <th>Notebook</th>\n",
       "      <th>Tablet</th>\n",
       "    </tr>\n",
       "    <tr>\n",
       "      <th>Mês</th>\n",
       "      <th></th>\n",
       "      <th></th>\n",
       "      <th></th>\n",
       "    </tr>\n",
       "  </thead>\n",
       "  <tbody>\n",
       "    <tr>\n",
       "      <th>1</th>\n",
       "      <td>150</td>\n",
       "      <td>80</td>\n",
       "      <td>100</td>\n",
       "    </tr>\n",
       "    <tr>\n",
       "      <th>2</th>\n",
       "      <td>180</td>\n",
       "      <td>90</td>\n",
       "      <td>120</td>\n",
       "    </tr>\n",
       "    <tr>\n",
       "      <th>3</th>\n",
       "      <td>200</td>\n",
       "      <td>100</td>\n",
       "      <td>130</td>\n",
       "    </tr>\n",
       "  </tbody>\n",
       "</table>\n",
       "</div>"
      ],
      "text/plain": [
       "Produtos  Celular  Notebook  Tablet\n",
       "Mês                                \n",
       "1             150        80     100\n",
       "2             180        90     120\n",
       "3             200       100     130"
      ]
     },
     "execution_count": 157,
     "metadata": {},
     "output_type": "execute_result"
    }
   ],
   "source": [
    "# 04\n",
    "\n",
    "df_grouped = df.groupby(['Mês', 'Produtos'])['Vendas'].sum().unstack()\n",
    "df_grouped"
   ]
  },
  {
   "cell_type": "code",
   "execution_count": 160,
   "metadata": {},
   "outputs": [
    {
     "data": {
      "text/plain": [
       "<Figure size 1000x600 with 0 Axes>"
      ]
     },
     "metadata": {},
     "output_type": "display_data"
    },
    {
     "data": {
      "image/png": "[encoded data removed]",
      "text/plain": [
       "<Figure size 640x480 with 1 Axes>"
      ]
     },
     "metadata": {},
     "output_type": "display_data"
    }
   ],
   "source": [
    "# 04 - criando o gráfico\n",
    "import matplotlib.pyplot as plt\n",
    "\n",
    "# Unstack serve para gerar um dado de forma separada ou junta\n",
    "df_grouped = df.groupby(['Mês', 'Produtos'])['Vendas'].sum().unstack()\n",
    "\n",
    "plt.figure(figsize=(10, 6))\n",
    "df_grouped.plot(kind='bar', stacked=False)\n",
    "                \n",
    "plt.title(\"Vendas por Produto ao longo do Tempo\")\n",
    "plt.xlabel(\"Mês\")\n",
    "plt.ylabel(\"Vendas\")\n",
    "plt.xticks(rotation=45)\n",
    "plt.legend(title='Produto')\n",
    "plt.grid(axis='y')\n",
    "plt.tight_layout()\n",
    "plt.show()"
   ]
  },
  {
   "cell_type": "code",
   "execution_count": 166,
   "metadata": {},
   "outputs": [
    {
     "name": "stdout",
     "output_type": "stream",
     "text": [
      "2 - Maior variação\n",
      "3 - Menor variação\n"
     ]
    }
   ],
   "source": [
    "# 5 - criando a variação percentual\n",
    "\n",
    "# Calcular a variação porcentual entre as vendas de um mês para o proximo\n",
    "df['Variação Percentual']= df.groupby('Produtos')['Vendas'].pct_change()\n",
    "\n",
    "mes_maior_variacao = df.loc[df['Variação Percentual']. idxmax()]['Mês']\n",
    "mes_menor_variacao = df.loc[df['Variação Percentual']. idxmin()]['Mês']\n",
    "print(mes_maior_variacao, '- Maior variação')\n",
    "print(mes_menor_variacao, '- Menor variação')"
   ]
  }
 ],
 "metadata": {
  "kernelspec": {
   "display_name": "Python 3",
   "language": "python",
   "name": "python3"
  },
  "language_info": {
   "codemirror_mode": {
    "name": "ipython",
    "version": 3
   },
   "file_extension": ".py",
   "mimetype": "text/x-python",
   "name": "python",
   "nbconvert_exporter": "python",
   "pygments_lexer": "ipython3",
   "version": "3.11.4"
  },
  "orig_nbformat": 4
 },
 "nbformat": 4,
 "nbformat_minor": 2
}
