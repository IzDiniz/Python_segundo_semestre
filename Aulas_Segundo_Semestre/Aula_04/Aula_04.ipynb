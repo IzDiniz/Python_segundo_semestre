{
 "cells": [
  {
   "cell_type": "code",
   "execution_count": 9,
   "metadata": {},
   "outputs": [
    {
     "name": "stdout",
     "output_type": "stream",
     "text": [
      "Collecting numpy\n",
      "  Downloading numpy-1.26.4-cp311-cp311-win_amd64.whl (15.8 MB)\n",
      "                                              0.0/15.8 MB ? eta -:--:--\n",
      "     ---                                      1.4/15.8 MB 43.6 MB/s eta 0:00:01\n",
      "     ---                                      1.5/15.8 MB 32.7 MB/s eta 0:00:01\n",
      "     ---                                      1.5/15.8 MB 32.7 MB/s eta 0:00:01\n",
      "     ---                                      1.5/15.8 MB 32.7 MB/s eta 0:00:01\n",
      "     ---                                      1.5/15.8 MB 32.7 MB/s eta 0:00:01\n",
      "     ---                                      1.5/15.8 MB 32.7 MB/s eta 0:00:01\n",
      "     ---                                      1.5/15.8 MB 32.7 MB/s eta 0:00:01\n",
      "     ---                                      1.5/15.8 MB 32.7 MB/s eta 0:00:01\n",
      "     ---                                      1.5/15.8 MB 32.7 MB/s eta 0:00:01\n",
      "     ---                                      1.5/15.8 MB 32.7 MB/s eta 0:00:01\n",
      "     ---                                      1.5/15.8 MB 32.7 MB/s eta 0:00:01\n",
      "     ---                                      1.5/15.8 MB 32.7 MB/s eta 0:00:01\n",
      "     ---                                      1.5/15.8 MB 32.7 MB/s eta 0:00:01\n",
      "     ---                                      1.5/15.8 MB 32.7 MB/s eta 0:00:01\n",
      "     ----                                     1.7/15.8 MB 2.4 MB/s eta 0:00:06\n",
      "     -----                                    2.2/15.8 MB 3.0 MB/s eta 0:00:05\n",
      "     ------                                   2.5/15.8 MB 3.2 MB/s eta 0:00:05\n",
      "     ------                                   2.8/15.8 MB 3.3 MB/s eta 0:00:04\n",
      "     -------                                  2.8/15.8 MB 3.3 MB/s eta 0:00:04\n",
      "     -------                                  2.8/15.8 MB 3.3 MB/s eta 0:00:04\n",
      "     -------                                  2.8/15.8 MB 3.3 MB/s eta 0:00:04\n",
      "     -------                                  2.8/15.8 MB 3.3 MB/s eta 0:00:04\n",
      "     -------                                  2.8/15.8 MB 3.3 MB/s eta 0:00:04\n",
      "     -------                                  2.8/15.8 MB 2.6 MB/s eta 0:00:06\n",
      "     -------                                  3.1/15.8 MB 2.7 MB/s eta 0:00:05\n",
      "     ---------                                3.6/15.8 MB 3.0 MB/s eta 0:00:05\n",
      "     ---------                                3.8/15.8 MB 3.1 MB/s eta 0:00:04\n",
      "     ----------                               4.2/15.8 MB 3.2 MB/s eta 0:00:04\n",
      "     -----------                              4.4/15.8 MB 3.3 MB/s eta 0:00:04\n",
      "     -----------                              4.6/15.8 MB 3.3 MB/s eta 0:00:04\n",
      "     ------------                             5.0/15.8 MB 3.5 MB/s eta 0:00:04\n",
      "     -------------                            5.2/15.8 MB 3.6 MB/s eta 0:00:03\n",
      "     -------------                            5.2/15.8 MB 3.6 MB/s eta 0:00:03\n",
      "     -------------                            5.2/15.8 MB 3.6 MB/s eta 0:00:03\n",
      "     -------------                            5.2/15.8 MB 3.6 MB/s eta 0:00:03\n",
      "     -------------                            5.2/15.8 MB 3.6 MB/s eta 0:00:03\n",
      "     -------------                            5.2/15.8 MB 3.6 MB/s eta 0:00:03\n",
      "     -------------                            5.2/15.8 MB 3.6 MB/s eta 0:00:03\n",
      "     -------------                            5.2/15.8 MB 3.6 MB/s eta 0:00:03\n",
      "     -------------                            5.2/15.8 MB 3.6 MB/s eta 0:00:03\n",
      "     -------------                            5.2/15.8 MB 3.6 MB/s eta 0:00:03\n",
      "     -------------                            5.2/15.8 MB 3.6 MB/s eta 0:00:03\n",
      "     -------------                            5.2/15.8 MB 3.6 MB/s eta 0:00:03\n",
      "     -------------                            5.2/15.8 MB 3.6 MB/s eta 0:00:03\n",
      "     -------------                            5.2/15.8 MB 3.6 MB/s eta 0:00:03\n",
      "     -------------                            5.4/15.8 MB 2.5 MB/s eta 0:00:05\n",
      "     -------------                            5.5/15.8 MB 2.5 MB/s eta 0:00:05\n",
      "     --------------                           5.8/15.8 MB 2.6 MB/s eta 0:00:04\n",
      "     ---------------                          6.1/15.8 MB 2.7 MB/s eta 0:00:04\n",
      "     ----------------                         6.5/15.8 MB 2.8 MB/s eta 0:00:04\n",
      "     -----------------                        7.0/15.8 MB 2.9 MB/s eta 0:00:04\n",
      "     -----------------                        7.0/15.8 MB 3.0 MB/s eta 0:00:03\n",
      "     -----------------                        7.0/15.8 MB 3.0 MB/s eta 0:00:03\n",
      "     -----------------                        7.0/15.8 MB 3.0 MB/s eta 0:00:03\n",
      "     -----------------                        7.0/15.8 MB 3.0 MB/s eta 0:00:03\n",
      "     -----------------                        7.0/15.8 MB 3.0 MB/s eta 0:00:03\n",
      "     ------------------                       7.2/15.8 MB 2.7 MB/s eta 0:00:04\n",
      "     ------------------                       7.2/15.8 MB 2.7 MB/s eta 0:00:04\n",
      "     ------------------                       7.3/15.8 MB 2.7 MB/s eta 0:00:04\n",
      "     ------------------                       7.5/15.8 MB 2.7 MB/s eta 0:00:04\n",
      "     -------------------                      7.8/15.8 MB 2.8 MB/s eta 0:00:03\n",
      "     --------------------                     8.1/15.8 MB 2.8 MB/s eta 0:00:03\n",
      "     ---------------------                    8.5/15.8 MB 2.9 MB/s eta 0:00:03\n",
      "     ----------------------                   8.8/15.8 MB 3.0 MB/s eta 0:00:03\n",
      "     ----------------------                   8.9/15.8 MB 3.0 MB/s eta 0:00:03\n",
      "     ----------------------                   8.9/15.8 MB 2.9 MB/s eta 0:00:03\n",
      "     ----------------------                   8.9/15.8 MB 2.9 MB/s eta 0:00:03\n",
      "     ----------------------                   8.9/15.8 MB 2.9 MB/s eta 0:00:03\n",
      "     ----------------------                   8.9/15.8 MB 2.9 MB/s eta 0:00:03\n",
      "     ----------------------                   8.9/15.8 MB 2.9 MB/s eta 0:00:03\n",
      "     ----------------------                   9.0/15.8 MB 2.7 MB/s eta 0:00:03\n",
      "     -----------------------                  9.2/15.8 MB 2.7 MB/s eta 0:00:03\n",
      "     -----------------------                  9.4/15.8 MB 2.8 MB/s eta 0:00:03\n",
      "     ------------------------                 9.9/15.8 MB 2.9 MB/s eta 0:00:03\n",
      "     -------------------------                10.2/15.8 MB 2.9 MB/s eta 0:00:02\n",
      "     --------------------------               10.4/15.8 MB 2.9 MB/s eta 0:00:02\n",
      "     ---------------------------              10.7/15.8 MB 2.9 MB/s eta 0:00:02\n",
      "     ---------------------------              10.7/15.8 MB 2.9 MB/s eta 0:00:02\n",
      "     ---------------------------              10.7/15.8 MB 2.9 MB/s eta 0:00:02\n",
      "     ---------------------------              10.7/15.8 MB 2.9 MB/s eta 0:00:02\n",
      "     ---------------------------              10.7/15.8 MB 2.9 MB/s eta 0:00:02\n",
      "     ---------------------------              10.7/15.8 MB 2.7 MB/s eta 0:00:02\n",
      "     ---------------------------              11.0/15.8 MB 2.7 MB/s eta 0:00:02\n",
      "     ----------------------------             11.1/15.8 MB 2.6 MB/s eta 0:00:02\n",
      "     ----------------------------             11.3/15.8 MB 2.6 MB/s eta 0:00:02\n",
      "     -----------------------------            11.5/15.8 MB 2.6 MB/s eta 0:00:02\n",
      "     -----------------------------            11.8/15.8 MB 3.0 MB/s eta 0:00:02\n",
      "     ------------------------------           12.1/15.8 MB 3.0 MB/s eta 0:00:02\n",
      "     -------------------------------          12.4/15.8 MB 3.0 MB/s eta 0:00:02\n",
      "     -------------------------------          12.5/15.8 MB 3.0 MB/s eta 0:00:02\n",
      "     -------------------------------          12.5/15.8 MB 3.0 MB/s eta 0:00:02\n",
      "     -------------------------------          12.5/15.8 MB 3.0 MB/s eta 0:00:02\n",
      "     -------------------------------          12.5/15.8 MB 3.0 MB/s eta 0:00:02\n",
      "     -------------------------------          12.5/15.8 MB 3.0 MB/s eta 0:00:02\n",
      "     -------------------------------          12.5/15.8 MB 3.0 MB/s eta 0:00:02\n",
      "     -------------------------------          12.6/15.8 MB 2.8 MB/s eta 0:00:02\n",
      "     -------------------------------          12.6/15.8 MB 2.7 MB/s eta 0:00:02\n",
      "     --------------------------------         12.7/15.8 MB 2.7 MB/s eta 0:00:02\n",
      "     --------------------------------         12.7/15.8 MB 2.7 MB/s eta 0:00:02\n",
      "     --------------------------------         12.8/15.8 MB 2.7 MB/s eta 0:00:02\n",
      "     --------------------------------         12.8/15.8 MB 2.6 MB/s eta 0:00:02\n",
      "     --------------------------------         12.9/15.8 MB 2.6 MB/s eta 0:00:02\n",
      "     --------------------------------         12.9/15.8 MB 2.6 MB/s eta 0:00:02\n",
      "     --------------------------------         12.9/15.8 MB 2.6 MB/s eta 0:00:02\n",
      "     --------------------------------         12.9/15.8 MB 2.6 MB/s eta 0:00:02\n",
      "     --------------------------------         12.9/15.8 MB 2.6 MB/s eta 0:00:02\n",
      "     --------------------------------         13.0/15.8 MB 2.5 MB/s eta 0:00:02\n",
      "     ---------------------------------        13.1/15.8 MB 2.6 MB/s eta 0:00:02\n",
      "     ---------------------------------        13.3/15.8 MB 2.6 MB/s eta 0:00:01\n",
      "     ----------------------------------       13.5/15.8 MB 2.6 MB/s eta 0:00:01\n",
      "     ----------------------------------       13.7/15.8 MB 2.6 MB/s eta 0:00:01\n",
      "     -----------------------------------      13.9/15.8 MB 2.6 MB/s eta 0:00:01\n",
      "     -----------------------------------      14.1/15.8 MB 2.6 MB/s eta 0:00:01\n",
      "     ------------------------------------     14.4/15.8 MB 2.6 MB/s eta 0:00:01\n",
      "     -------------------------------------    14.7/15.8 MB 2.6 MB/s eta 0:00:01\n",
      "     -------------------------------------    14.7/15.8 MB 2.6 MB/s eta 0:00:01\n",
      "     -------------------------------------    14.7/15.8 MB 2.6 MB/s eta 0:00:01\n",
      "     -------------------------------------    14.7/15.8 MB 2.6 MB/s eta 0:00:01\n",
      "     -------------------------------------    14.7/15.8 MB 2.6 MB/s eta 0:00:01\n",
      "     -------------------------------------    14.8/15.8 MB 2.5 MB/s eta 0:00:01\n",
      "     -------------------------------------    15.0/15.8 MB 2.4 MB/s eta 0:00:01\n",
      "     --------------------------------------   15.3/15.8 MB 2.4 MB/s eta 0:00:01\n",
      "     ---------------------------------------  15.7/15.8 MB 2.9 MB/s eta 0:00:01\n",
      "     ---------------------------------------  15.8/15.8 MB 2.9 MB/s eta 0:00:01\n",
      "     ---------------------------------------- 15.8/15.8 MB 2.9 MB/s eta 0:00:00\n",
      "Installing collected packages: numpy\n",
      "Successfully installed numpy-1.26.4\n",
      "Note: you may need to restart the kernel to use updated packages.\n"
     ]
    },
    {
     "name": "stderr",
     "output_type": "stream",
     "text": [
      "\n",
      "[notice] A new release of pip is available: 23.1.2 -> 24.0\n",
      "[notice] To update, run: python.exe -m pip install --upgrade pip\n"
     ]
    }
   ],
   "source": [
    "pip install numpy"
   ]
  },
  {
   "cell_type": "code",
   "execution_count": 23,
   "metadata": {},
   "outputs": [
    {
     "name": "stdout",
     "output_type": "stream",
     "text": [
      "Collecting pandas\n",
      "  Downloading pandas-2.2.1-cp311-cp311-win_amd64.whl (11.6 MB)\n",
      "                                              0.0/11.6 MB ? eta -:--:--\n",
      "                                              0.2/11.6 MB 4.6 MB/s eta 0:00:03\n",
      "     -                                        0.4/11.6 MB 4.0 MB/s eta 0:00:03\n",
      "     --                                       0.7/11.6 MB 5.0 MB/s eta 0:00:03\n",
      "     ---                                      1.2/11.6 MB 6.1 MB/s eta 0:00:02\n",
      "     -----                                    1.7/11.6 MB 7.3 MB/s eta 0:00:02\n",
      "     -------                                  2.2/11.6 MB 7.8 MB/s eta 0:00:02\n",
      "     --------                                 2.5/11.6 MB 7.6 MB/s eta 0:00:02\n",
      "     --------                                 2.6/11.6 MB 7.8 MB/s eta 0:00:02\n",
      "     --------                                 2.6/11.6 MB 7.8 MB/s eta 0:00:02\n",
      "     --------                                 2.6/11.6 MB 7.8 MB/s eta 0:00:02\n",
      "     --------                                 2.6/11.6 MB 7.8 MB/s eta 0:00:02\n",
      "     --------                                 2.6/11.6 MB 7.8 MB/s eta 0:00:02\n",
      "     --------                                 2.6/11.6 MB 7.8 MB/s eta 0:00:02\n",
      "     --------                                 2.6/11.6 MB 7.8 MB/s eta 0:00:02\n",
      "     --------                                 2.6/11.6 MB 7.8 MB/s eta 0:00:02\n",
      "     --------                                 2.6/11.6 MB 7.8 MB/s eta 0:00:02\n",
      "     --------                                 2.6/11.6 MB 7.8 MB/s eta 0:00:02\n",
      "     --------                                 2.6/11.6 MB 7.8 MB/s eta 0:00:02\n",
      "     --------                                 2.6/11.6 MB 7.8 MB/s eta 0:00:02\n",
      "     --------                                 2.6/11.6 MB 7.8 MB/s eta 0:00:02\n",
      "     ---------                                2.6/11.6 MB 2.7 MB/s eta 0:00:04\n",
      "     ----------                               3.0/11.6 MB 2.9 MB/s eta 0:00:04\n",
      "     -----------                              3.4/11.6 MB 3.2 MB/s eta 0:00:03\n",
      "     ------------                             3.7/11.6 MB 3.3 MB/s eta 0:00:03\n",
      "     ---------------                          4.4/11.6 MB 3.7 MB/s eta 0:00:02\n",
      "     ---------------                          4.4/11.6 MB 3.8 MB/s eta 0:00:02\n",
      "     ---------------                          4.4/11.6 MB 3.8 MB/s eta 0:00:02\n",
      "     ---------------                          4.4/11.6 MB 3.8 MB/s eta 0:00:02\n",
      "     ---------------                          4.4/11.6 MB 3.8 MB/s eta 0:00:02\n",
      "     ---------------                          4.4/11.6 MB 3.8 MB/s eta 0:00:02\n",
      "     ---------------                          4.4/11.6 MB 3.8 MB/s eta 0:00:02\n",
      "     ---------------                          4.4/11.6 MB 3.8 MB/s eta 0:00:02\n",
      "     ---------------                          4.4/11.6 MB 3.8 MB/s eta 0:00:02\n",
      "     ---------------                          4.4/11.6 MB 3.8 MB/s eta 0:00:02\n",
      "     ---------------                          4.4/11.6 MB 3.8 MB/s eta 0:00:02\n",
      "     ---------------                          4.4/11.6 MB 3.8 MB/s eta 0:00:02\n",
      "     ---------------                          4.4/11.6 MB 3.8 MB/s eta 0:00:02\n",
      "     ---------------                          4.4/11.6 MB 3.8 MB/s eta 0:00:02\n",
      "     ---------------                          4.4/11.6 MB 3.8 MB/s eta 0:00:02\n",
      "     ----------------                         4.8/11.6 MB 2.6 MB/s eta 0:00:03\n",
      "     -----------------                        5.2/11.6 MB 2.7 MB/s eta 0:00:03\n",
      "     ------------------                       5.4/11.6 MB 2.8 MB/s eta 0:00:03\n",
      "     -------------------                      5.6/11.6 MB 2.8 MB/s eta 0:00:03\n",
      "     -------------------                      5.7/11.6 MB 2.8 MB/s eta 0:00:03\n",
      "     -------------------                      5.7/11.6 MB 2.8 MB/s eta 0:00:03\n",
      "     -------------------                      5.8/11.6 MB 2.7 MB/s eta 0:00:03\n",
      "     --------------------                     5.8/11.6 MB 2.7 MB/s eta 0:00:03\n",
      "     --------------------                     5.8/11.6 MB 2.7 MB/s eta 0:00:03\n",
      "     --------------------                     5.8/11.6 MB 2.7 MB/s eta 0:00:03\n",
      "     --------------------                     5.8/11.6 MB 2.7 MB/s eta 0:00:03\n",
      "     --------------------                     5.8/11.6 MB 2.7 MB/s eta 0:00:03\n",
      "     --------------------                     5.9/11.6 MB 2.4 MB/s eta 0:00:03\n",
      "     --------------------                     6.0/11.6 MB 2.4 MB/s eta 0:00:03\n",
      "     ---------------------                    6.2/11.6 MB 2.5 MB/s eta 0:00:03\n",
      "     ---------------------                    6.3/11.6 MB 2.4 MB/s eta 0:00:03\n",
      "     ----------------------                   6.5/11.6 MB 2.5 MB/s eta 0:00:03\n",
      "     -----------------------                  6.7/11.6 MB 2.5 MB/s eta 0:00:02\n",
      "     -----------------------                  6.8/11.6 MB 2.5 MB/s eta 0:00:02\n",
      "     -----------------------                  6.9/11.6 MB 2.5 MB/s eta 0:00:02\n",
      "     ------------------------                 7.0/11.6 MB 2.5 MB/s eta 0:00:02\n",
      "     ------------------------                 7.1/11.6 MB 2.5 MB/s eta 0:00:02\n",
      "     -------------------------                7.3/11.6 MB 2.5 MB/s eta 0:00:02\n",
      "     -------------------------                7.4/11.6 MB 2.5 MB/s eta 0:00:02\n",
      "     -------------------------                7.4/11.6 MB 2.5 MB/s eta 0:00:02\n",
      "     -------------------------                7.5/11.6 MB 2.5 MB/s eta 0:00:02\n",
      "     -------------------------                7.5/11.6 MB 2.5 MB/s eta 0:00:02\n",
      "     -------------------------                7.5/11.6 MB 2.4 MB/s eta 0:00:02\n",
      "     -------------------------                7.5/11.6 MB 2.4 MB/s eta 0:00:02\n",
      "     --------------------------               7.6/11.6 MB 2.4 MB/s eta 0:00:02\n",
      "     --------------------------               7.6/11.6 MB 2.3 MB/s eta 0:00:02\n",
      "     ---------------------------              7.9/11.6 MB 2.4 MB/s eta 0:00:02\n",
      "     ---------------------------              8.0/11.6 MB 2.4 MB/s eta 0:00:02\n",
      "     ----------------------------             8.2/11.6 MB 2.4 MB/s eta 0:00:02\n",
      "     ----------------------------             8.4/11.6 MB 2.4 MB/s eta 0:00:02\n",
      "     -----------------------------            8.5/11.6 MB 2.4 MB/s eta 0:00:02\n",
      "     -----------------------------            8.6/11.6 MB 2.4 MB/s eta 0:00:02\n",
      "     ------------------------------           8.7/11.6 MB 2.4 MB/s eta 0:00:02\n",
      "     ------------------------------           8.9/11.6 MB 2.5 MB/s eta 0:00:02\n",
      "     -------------------------------          9.2/11.6 MB 2.5 MB/s eta 0:00:01\n",
      "     --------------------------------         9.5/11.6 MB 2.5 MB/s eta 0:00:01\n",
      "     ---------------------------------        9.7/11.6 MB 2.6 MB/s eta 0:00:01\n",
      "     ----------------------------------       9.9/11.6 MB 2.6 MB/s eta 0:00:01\n",
      "     ----------------------------------       10.1/11.6 MB 2.6 MB/s eta 0:00:01\n",
      "     ----------------------------------       10.1/11.6 MB 2.6 MB/s eta 0:00:01\n",
      "     ----------------------------------       10.1/11.6 MB 2.6 MB/s eta 0:00:01\n",
      "     ----------------------------------       10.1/11.6 MB 2.6 MB/s eta 0:00:01\n",
      "     ----------------------------------       10.1/11.6 MB 2.6 MB/s eta 0:00:01\n",
      "     ----------------------------------       10.1/11.6 MB 2.6 MB/s eta 0:00:01\n",
      "     ----------------------------------       10.1/11.6 MB 2.6 MB/s eta 0:00:01\n",
      "     ----------------------------------       10.1/11.6 MB 2.6 MB/s eta 0:00:01\n",
      "     ----------------------------------       10.1/11.6 MB 2.6 MB/s eta 0:00:01\n",
      "     ----------------------------------       10.1/11.6 MB 2.6 MB/s eta 0:00:01\n",
      "     ----------------------------------       10.1/11.6 MB 2.6 MB/s eta 0:00:01\n",
      "     ----------------------------------       10.1/11.6 MB 2.6 MB/s eta 0:00:01\n",
      "     ----------------------------------       10.1/11.6 MB 2.6 MB/s eta 0:00:01\n",
      "     ----------------------------------       10.1/11.6 MB 2.6 MB/s eta 0:00:01\n",
      "     ----------------------------------       10.1/11.6 MB 2.2 MB/s eta 0:00:01\n",
      "     ----------------------------------       10.1/11.6 MB 2.2 MB/s eta 0:00:01\n",
      "     ----------------------------------       10.1/11.6 MB 2.2 MB/s eta 0:00:01\n",
      "     ----------------------------------       10.1/11.6 MB 2.2 MB/s eta 0:00:01\n",
      "     -----------------------------------      10.2/11.6 MB 2.2 MB/s eta 0:00:01\n",
      "     -----------------------------------      10.3/11.6 MB 2.2 MB/s eta 0:00:01\n",
      "     ------------------------------------     10.5/11.6 MB 2.2 MB/s eta 0:00:01\n",
      "     -------------------------------------    11.0/11.6 MB 2.2 MB/s eta 0:00:01\n",
      "     ---------------------------------------  11.4/11.6 MB 2.2 MB/s eta 0:00:01\n",
      "     ---------------------------------------  11.6/11.6 MB 2.2 MB/s eta 0:00:01\n",
      "     ---------------------------------------- 11.6/11.6 MB 2.2 MB/s eta 0:00:00\n",
      "Requirement already satisfied: numpy<2,>=1.23.2 in c:\\python311\\lib\\site-packages (from pandas) (1.26.4)\n",
      "Requirement already satisfied: python-dateutil>=2.8.2 in c:\\python311\\lib\\site-packages (from pandas) (2.8.2)\n",
      "Collecting pytz>=2020.1 (from pandas)\n",
      "  Downloading pytz-2024.1-py2.py3-none-any.whl (505 kB)\n",
      "                                              0.0/505.5 kB ? eta -:--:--\n",
      "     ------------------------------------- 505.5/505.5 kB 16.0 MB/s eta 0:00:00\n",
      "Collecting tzdata>=2022.7 (from pandas)\n",
      "  Downloading tzdata-2024.1-py2.py3-none-any.whl (345 kB)\n",
      "                                              0.0/345.4 kB ? eta -:--:--\n",
      "     ------------------------------------- 345.4/345.4 kB 10.8 MB/s eta 0:00:00\n",
      "Requirement already satisfied: six>=1.5 in c:\\python311\\lib\\site-packages (from python-dateutil>=2.8.2->pandas) (1.16.0)\n",
      "Installing collected packages: pytz, tzdata, pandas\n",
      "Successfully installed pandas-2.2.1 pytz-2024.1 tzdata-2024.1\n",
      "Note: you may need to restart the kernel to use updated packages.\n"
     ]
    },
    {
     "name": "stderr",
     "output_type": "stream",
     "text": [
      "\n",
      "[notice] A new release of pip is available: 23.1.2 -> 24.0\n",
      "[notice] To update, run: python.exe -m pip install --upgrade pip\n"
     ]
    }
   ],
   "source": [
    "pip install pandas"
   ]
  },
  {
   "cell_type": "code",
   "execution_count": 17,
   "metadata": {},
   "outputs": [],
   "source": [
    "import numpy as np"
   ]
  },
  {
   "cell_type": "code",
   "execution_count": 25,
   "metadata": {},
   "outputs": [],
   "source": [
    "import pandas as pd"
   ]
  },
  {
   "cell_type": "code",
   "execution_count": 26,
   "metadata": {},
   "outputs": [],
   "source": [
    "#Tipos de Arrays, listas\n",
    "lista = [1, 2, 3, 4, 5, 6, 7, 8, 9, 10]\n",
    "\n",
    "tupla = (1, 2, 3, 4, 5, 6, 7, 8, 9, 10)\n",
    "\n",
    "df_series = pd.Series(tupla)"
   ]
  },
  {
   "cell_type": "code",
   "execution_count": 28,
   "metadata": {},
   "outputs": [
    {
     "data": {
      "text/plain": [
       "0     1\n",
       "1     2\n",
       "2     3\n",
       "3     4\n",
       "4     5\n",
       "5     6\n",
       "6     7\n",
       "7     8\n",
       "8     9\n",
       "9    10\n",
       "dtype: int64"
      ]
     },
     "execution_count": 28,
     "metadata": {},
     "output_type": "execute_result"
    }
   ],
   "source": [
    "df_series"
   ]
  },
  {
   "cell_type": "code",
   "execution_count": 22,
   "metadata": {},
   "outputs": [
    {
     "data": {
      "text/plain": [
       "array([ 1,  2,  3,  4,  5,  6,  7,  8,  9, 10])"
      ]
     },
     "execution_count": 22,
     "metadata": {},
     "output_type": "execute_result"
    }
   ],
   "source": [
    "# 01\n",
    "array = np.array([1, 2, 3, 4, 5, 6, 7, 8, 9, 10])\n",
    "array"
   ]
  },
  {
   "cell_type": "code",
   "execution_count": 16,
   "metadata": {},
   "outputs": [
    {
     "data": {
      "text/plain": [
       "4"
      ]
     },
     "execution_count": 16,
     "metadata": {},
     "output_type": "execute_result"
    }
   ],
   "source": [
    "# 02\n",
    "array[3]"
   ]
  },
  {
   "cell_type": "code",
   "execution_count": 21,
   "metadata": {},
   "outputs": [
    {
     "data": {
      "text/plain": [
       "array([ 7,  9, 11, 13, 15])"
      ]
     },
     "execution_count": 21,
     "metadata": {},
     "output_type": "execute_result"
    }
   ],
   "source": [
    "# 03\n",
    "array01 = np.array([1, 2, 3, 4, 5])\n",
    "array02 = np.array([6, 7, 8, 9, 10])\n",
    "\n",
    "sum_array = array01 + array02\n",
    "sum_array\n",
    "\n"
   ]
  },
  {
   "cell_type": "code",
   "execution_count": 38,
   "metadata": {},
   "outputs": [
    {
     "name": "stdout",
     "output_type": "stream",
     "text": [
      "[ 6  7  8  9 10]\n"
     ]
    }
   ],
   "source": [
    "# 04\n",
    "# É necessário colocar nome da variável dentro e fora das chaves, para printa os números, se não virão em booleanas\n",
    "array_maiores_5 = array[array > 5]\n",
    "print(array_maiores_5)\n",
    "    \n"
   ]
  },
  {
   "cell_type": "code",
   "execution_count": 44,
   "metadata": {},
   "outputs": [
    {
     "name": "stdout",
     "output_type": "stream",
     "text": [
      "Média 5.5\n",
      "Desvio Padrão 2.8722813232690143\n"
     ]
    }
   ],
   "source": [
    "# 05 - Calcular a média e o desvio padrão de um Numpy array contendo números de 1 a 10\n",
    "# Colocar o nome da variável antes do .mean sla\n",
    "print('Média', array.mean())\n",
    "\n",
    "print('Desvio Padrão', array.std())\n"
   ]
  },
  {
   "cell_type": "code",
   "execution_count": 46,
   "metadata": {},
   "outputs": [
    {
     "name": "stdout",
     "output_type": "stream",
     "text": [
      "Concatenação\n",
      "[ 1  2  3  4  5  6  7  8  9 10]\n"
     ]
    }
   ],
   "source": [
    "# 06 - Concatenação de 2 arrays de 1 a 5 e de 6 a 10, juntar 2 arrays\n",
    "arr_concat = np.concatenate([array01, array02])\n",
    "print('Concatenação')\n",
    "print(arr_concat)\n"
   ]
  },
  {
   "cell_type": "code",
   "execution_count": 48,
   "metadata": {},
   "outputs": [
    {
     "name": "stdout",
     "output_type": "stream",
     "text": [
      "[-9 -7 -5 -3 -1  1  3  5  7  9]\n"
     ]
    }
   ],
   "source": [
    "# 07 \n",
    "# Arange ele subtraí o 1 pelo 11, 10, 9 , 8... até 2, criando assim um range de 1 a 10\n",
    "arr1 = np.arange(1, 11)\n",
    "arr2 = np.arange(10, 0, -1)\n",
    "resultado = arr1 - arr2\n",
    "\n",
    "print(resultado)"
   ]
  },
  {
   "cell_type": "code",
   "execution_count": 49,
   "metadata": {},
   "outputs": [
    {
     "data": {
      "text/plain": [
       "array([ 1,  2,  3,  4,  5,  6,  7,  8,  9, 10])"
      ]
     },
     "execution_count": 49,
     "metadata": {},
     "output_type": "execute_result"
    }
   ],
   "source": [
    "arr1"
   ]
  },
  {
   "cell_type": "code",
   "execution_count": 51,
   "metadata": {},
   "outputs": [
    {
     "name": "stdout",
     "output_type": "stream",
     "text": [
      "[10  9  8  7  6  5  4  3  2  1]\n"
     ]
    }
   ],
   "source": [
    "# 08 - Criando array de ordem decrescente, formato de numpy para ordenar = [::- ou + 'str ou num']\n",
    "\n",
    "arr1 = np.arange(1, 11)\n",
    "arr_ordenados = np.sort(arr1)[::-1]\n",
    "\n",
    "print(arr_ordenados)"
   ]
  },
  {
   "cell_type": "code",
   "execution_count": 59,
   "metadata": {},
   "outputs": [
    {
     "name": "stdout",
     "output_type": "stream",
     "text": [
      "True\n"
     ]
    }
   ],
   "source": [
    "# 09 - vê se possuímos valores duplicados\n",
    "arr03 = np.array([0, 4, 2, 6, 5, 9, 6])\n",
    "print(np.unique(arr03).size !=arr03.size)"
   ]
  },
  {
   "cell_type": "code",
   "execution_count": 60,
   "metadata": {},
   "outputs": [
    {
     "name": "stdout",
     "output_type": "stream",
     "text": [
      "[3 4 5 6 7]\n"
     ]
    }
   ],
   "source": [
    "# 10 - slicing do terceiro elemento até o setimo\n",
    "print(array[2:7])"
   ]
  }
 ],
 "metadata": {
  "kernelspec": {
   "display_name": "Python 3",
   "language": "python",
   "name": "python3"
  },
  "language_info": {
   "codemirror_mode": {
    "name": "ipython",
    "version": 3
   },
   "file_extension": ".py",
   "mimetype": "text/x-python",
   "name": "python",
   "nbconvert_exporter": "python",
   "pygments_lexer": "ipython3",
   "version": "3.11.4"
  },
  "orig_nbformat": 4
 },
 "nbformat": 4,
 "nbformat_minor": 2
}
